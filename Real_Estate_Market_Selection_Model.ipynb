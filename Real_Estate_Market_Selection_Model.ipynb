{
 "cells": [
  {
   "cell_type": "markdown",
   "id": "1fb68931",
   "metadata": {},
   "source": [
    "# Real Estate Market Selection Model"
   ]
  },
  {
   "cell_type": "code",
   "execution_count": 1,
   "id": "ffa74f33",
   "metadata": {
    "ExecuteTime": {
     "end_time": "2021-08-11T06:13:57.062676Z",
     "start_time": "2021-08-11T06:13:56.585761Z"
    }
   },
   "outputs": [],
   "source": [
    "import xgboost as xgb\n",
    "from sklearn.metrics import mean_squared_error\n",
    "import pandas as pd\n",
    "import numpy as np"
   ]
  },
  {
   "cell_type": "code",
   "execution_count": 33,
   "id": "549e3631",
   "metadata": {
    "ExecuteTime": {
     "end_time": "2021-08-11T06:37:04.566039Z",
     "start_time": "2021-08-11T06:37:04.493359Z"
    }
   },
   "outputs": [],
   "source": [
    "df_train_test = pd.read_csv('df_train_test.csv')\n",
    "df_validation = pd.read_csv('df_validation.csv')\n",
    "df_score = pd.read_csv('df_score.csv')"
   ]
  },
  {
   "cell_type": "markdown",
   "id": "a61e762f",
   "metadata": {
    "ExecuteTime": {
     "end_time": "2021-08-10T04:56:39.765949Z",
     "start_time": "2021-08-10T04:56:39.759992Z"
    }
   },
   "source": [
    "#Breaking the test/train population into one group of FIPs the validation dataset into a different group of FIPs\n",
    "#This will ensure that the validation dataset is both out of sample and out of time from the test/train dataset\n",
    "\n",
    "fips_test_train = df_train_test.fips.sample(frac=0.7, replace=False, random_state=1)\n",
    "df_train_test = df_train_test[df_train_test.fips.isin(fips_test_train.values)]\n",
    "df_validation = df_validation[~df_validation.fips.isin(fips_test_train.values)]"
   ]
  },
  {
   "cell_type": "code",
   "execution_count": 3,
   "id": "b2af4bc5",
   "metadata": {
    "ExecuteTime": {
     "end_time": "2021-08-11T06:13:57.128228Z",
     "start_time": "2021-08-11T06:13:57.120981Z"
    }
   },
   "outputs": [
    {
     "data": {
      "text/plain": [
       "Index(['fips', 'zhvi_weighted_growth', '  Construction_growth',\n",
       "       '  Finance, insurance, real estate, rental, and leasing_growth',\n",
       "       '  Manufacturing_growth',\n",
       "       '  Mining, quarrying, and oil and gas extraction_growth',\n",
       "       '  Retail trade_growth', ' Private industries_growth',\n",
       "       'All industry total_growth',\n",
       "       'Government and government enterprises_growth', 'population_growth',\n",
       "       'county', 'Census Population 2010', 'zhvi_weighted',\n",
       "       ' Private industries', 'All industry total',\n",
       "       'Government and government enterprises', 'population'],\n",
       "      dtype='object')"
      ]
     },
     "execution_count": 3,
     "metadata": {},
     "output_type": "execute_result"
    }
   ],
   "source": [
    "df_train_test.columns"
   ]
  },
  {
   "cell_type": "code",
   "execution_count": 4,
   "id": "414c774e",
   "metadata": {
    "ExecuteTime": {
     "end_time": "2021-08-11T06:13:57.132668Z",
     "start_time": "2021-08-11T06:13:57.129453Z"
    }
   },
   "outputs": [],
   "source": [
    "target = 'zhvi_weighted_growth'"
   ]
  },
  {
   "cell_type": "code",
   "execution_count": 5,
   "id": "8e122dde",
   "metadata": {
    "ExecuteTime": {
     "end_time": "2021-08-11T06:13:57.136943Z",
     "start_time": "2021-08-11T06:13:57.133705Z"
    }
   },
   "outputs": [],
   "source": [
    "features = [\n",
    "    '  Construction_growth',\n",
    "       '  Finance, insurance, real estate, rental, and leasing_growth',\n",
    "       '  Manufacturing_growth',\n",
    "       '  Mining, quarrying, and oil and gas extraction_growth',\n",
    "       '  Retail trade_growth',\n",
    "       ' Private industries_growth',\n",
    "       'All industry total_growth',\n",
    "       'Government and government enterprises_growth',\n",
    "       'population_growth',\n",
    "       'zhvi_weighted', \n",
    "       ' Private industries',\n",
    "       'All industry total', \n",
    "       'Government and government enterprises',\n",
    "       'population'   \n",
    "    \n",
    "]"
   ]
  },
  {
   "cell_type": "code",
   "execution_count": 34,
   "id": "51ad69ef",
   "metadata": {
    "ExecuteTime": {
     "end_time": "2021-08-11T06:37:27.288350Z",
     "start_time": "2021-08-11T06:37:27.282707Z"
    }
   },
   "outputs": [],
   "source": [
    "X, y = df_train_test[features],df_train_test[target]\n",
    "X_val, y_val = df_validation[features],df_validation[target]\n",
    "X_score = df_score[features]"
   ]
  },
  {
   "cell_type": "code",
   "execution_count": 7,
   "id": "6ae478a4",
   "metadata": {
    "ExecuteTime": {
     "end_time": "2021-08-11T06:13:57.149425Z",
     "start_time": "2021-08-11T06:13:57.144644Z"
    }
   },
   "outputs": [],
   "source": [
    "data_dmatrix = xgb.DMatrix(data=X,label=y)"
   ]
  },
  {
   "cell_type": "code",
   "execution_count": 8,
   "id": "47fd5baa",
   "metadata": {
    "ExecuteTime": {
     "end_time": "2021-08-11T06:14:05.768269Z",
     "start_time": "2021-08-11T06:13:57.151044Z"
    }
   },
   "outputs": [
    {
     "name": "stdout",
     "output_type": "stream",
     "text": [
      "128    0.139331\n",
      "Name: test-rmse-mean, dtype: float64\n"
     ]
    }
   ],
   "source": [
    "params = {\"objective\":\"reg:squarederror\",'colsample_bytree': 0.3,'learning_rate': 0.1,\n",
    "                'max_depth': 3, 'alpha': 10}\n",
    "\n",
    "cv_results = xgb.cv(dtrain=data_dmatrix, params=params, nfold=100,\n",
    "                    num_boost_round=1000,early_stopping_rounds=10,metrics=\"rmse\", as_pandas=True, seed=123)\n",
    "\n",
    "#cv_results.head()\n",
    "print((cv_results[\"test-rmse-mean\"]).tail(1))"
   ]
  },
  {
   "cell_type": "code",
   "execution_count": 25,
   "id": "e2bd0552",
   "metadata": {
    "ExecuteTime": {
     "end_time": "2021-08-11T06:32:20.420871Z",
     "start_time": "2021-08-11T06:32:20.365157Z"
    }
   },
   "outputs": [
    {
     "data": {
      "text/plain": [
       "XGBRegressor(alpha=5, base_score=0.5, booster='gbtree', colsample_bylevel=1,\n",
       "       colsample_bynode=1, colsample_bytree=0.3, gamma=0, gpu_id=-1,\n",
       "       importance_type='gain', interaction_constraints='',\n",
       "       learning_rate=0.1, max_delta_step=0, max_depth=3,\n",
       "       min_child_weight=1, missing=nan, monotone_constraints='()',\n",
       "       n_estimators=100, n_jobs=0, num_parallel_tree=1,\n",
       "       objective='reg:squarederror', random_state=0, reg_alpha=5,\n",
       "       reg_lambda=1, scale_pos_weight=1, subsample=1, tree_method='exact',\n",
       "       validate_parameters=1, verbosity=None)"
      ]
     },
     "execution_count": 25,
     "metadata": {},
     "output_type": "execute_result"
    }
   ],
   "source": [
    "#from sklearn.model_selection import train_test_split\n",
    "\n",
    "#X_train, X_test, y_train, y_test = train_test_split(X, y, test_size=0, random_state=123)\n",
    "\n",
    "\n",
    "xg_reg = xgb.XGBRegressor(objective ='reg:squarederror', colsample_bytree = 0.3, learning_rate = 0.1,\n",
    "                max_depth = 3, alpha = 5, n_estimators = 100)\n",
    "\n",
    "xg_reg.fit(X,y) #fit on all data"
   ]
  },
  {
   "cell_type": "code",
   "execution_count": 26,
   "id": "a1b80bb7",
   "metadata": {
    "ExecuteTime": {
     "end_time": "2021-08-11T06:32:40.931755Z",
     "start_time": "2021-08-11T06:32:40.924941Z"
    }
   },
   "outputs": [
    {
     "name": "stdout",
     "output_type": "stream",
     "text": [
      "RMSE: 0.094134\n"
     ]
    }
   ],
   "source": [
    "# check RMSE on validation dataset (out of time period, in sample)\n",
    "preds = xg_reg.predict(X_val)\n",
    "rmse = np.sqrt(mean_squared_error(y_val, preds))\n",
    "print(\"RMSE: %f\" % (rmse))"
   ]
  },
  {
   "cell_type": "code",
   "execution_count": 27,
   "id": "4d229073",
   "metadata": {
    "ExecuteTime": {
     "end_time": "2021-08-11T06:32:45.155583Z",
     "start_time": "2021-08-11T06:32:44.905312Z"
    }
   },
   "outputs": [
    {
     "data": {
      "image/png": "[encoded data removed]",
      "text/plain": [
       "<Figure size 360x360 with 1 Axes>"
      ]
     },
     "metadata": {
      "needs_background": "light"
     },
     "output_type": "display_data"
    }
   ],
   "source": [
    "import matplotlib.pyplot as plt\n",
    "\n",
    "xgb.plot_importance(xg_reg)\n",
    "plt.rcParams['figure.figsize'] = [5, 5]\n",
    "plt.show()"
   ]
  },
  {
   "cell_type": "code",
   "execution_count": 28,
   "id": "a475f0dc",
   "metadata": {
    "ExecuteTime": {
     "end_time": "2021-08-11T06:33:07.864061Z",
     "start_time": "2021-08-11T06:33:07.516081Z"
    }
   },
   "outputs": [
    {
     "data": {
      "text/plain": [
       "Text(0.5, 1.0, 'Actual vs Predicted Appreciation')"
      ]
     },
     "execution_count": 28,
     "metadata": {},
     "output_type": "execute_result"
    },
    {
     "data": {
      "image/png": "[encoded data removed]",
      "text/plain": [
       "<Figure size 360x360 with 1 Axes>"
      ]
     },
     "metadata": {
      "needs_background": "light"
     },
     "output_type": "display_data"
    }
   ],
   "source": [
    "import seaborn as sns\n",
    "p = sns.regplot(x = y_val, y= preds, )\n",
    "p.set_xlabel(\"True Appreciation\", fontsize = 12)\n",
    "p.set_ylabel(\"Predicted Appreciation\", fontsize = 12)\n",
    "p.set_title(\"Actual vs Predicted Appreciation\")"
   ]
  },
  {
   "cell_type": "code",
   "execution_count": 29,
   "id": "9d250e60",
   "metadata": {
    "ExecuteTime": {
     "end_time": "2021-08-11T06:33:16.014005Z",
     "start_time": "2021-08-11T06:33:16.009305Z"
    }
   },
   "outputs": [],
   "source": [
    "df_validation = pd.concat([y_val, pd.Series(preds)], axis=1)\n",
    "df_validation.rename(columns={\"zhvi_weighted_growth\": \"actual_appreciation\", 0:\"predicted_appreciation\"}, inplace = True)"
   ]
  },
  {
   "cell_type": "code",
   "execution_count": 30,
   "id": "4a6b8c7c",
   "metadata": {
    "ExecuteTime": {
     "end_time": "2021-08-11T06:33:18.138771Z",
     "start_time": "2021-08-11T06:33:18.130274Z"
    }
   },
   "outputs": [],
   "source": [
    "df_validation[\"actual_appreciation\"]\n",
    "df_validation['pred_deciles'] = pd.qcut(df_validation['predicted_appreciation'], q=40, precision=0)"
   ]
  },
  {
   "cell_type": "code",
   "execution_count": 31,
   "id": "74aa2723",
   "metadata": {
    "ExecuteTime": {
     "end_time": "2021-08-11T06:33:26.118705Z",
     "start_time": "2021-08-11T06:33:25.969334Z"
    }
   },
   "outputs": [
    {
     "data": {
      "text/plain": [
       "Text(0.5, 1.0, 'Predicted vs Actual 3YR Appreciation for Validation Dataset')"
      ]
     },
     "execution_count": 31,
     "metadata": {},
     "output_type": "execute_result"
    },
    {
     "data": {
      "image/png": "[encoded data removed]",
      "text/plain": [
       "<Figure size 360x360 with 1 Axes>"
      ]
     },
     "metadata": {
      "needs_background": "light"
     },
     "output_type": "display_data"
    }
   ],
   "source": [
    "ax = df_validation.groupby('pred_deciles').actual_appreciation.mean().plot()\n",
    "ax.set_xlabel(\"Bucketed Predicted Appreciation\")\n",
    "ax.set_ylabel(\"Avg True Appreciation\")\n",
    "ax.set_title(\"Predicted vs Actual 3YR Appreciation for Validation Dataset\")"
   ]
  },
  {
   "cell_type": "code",
   "execution_count": 32,
   "id": "7bd81eb4",
   "metadata": {
    "ExecuteTime": {
     "end_time": "2021-08-11T06:33:28.490362Z",
     "start_time": "2021-08-11T06:33:28.348065Z"
    }
   },
   "outputs": [
    {
     "data": {
      "text/plain": [
       "Text(0.5, 1.0, 'Std of Actual Appreciation vs Predicted Appreciation')"
      ]
     },
     "execution_count": 32,
     "metadata": {},
     "output_type": "execute_result"
    },
    {
     "data": {
      "image/png": "[encoded data removed]",
      "text/plain": [
       "<Figure size 360x360 with 1 Axes>"
      ]
     },
     "metadata": {
      "needs_background": "light"
     },
     "output_type": "display_data"
    }
   ],
   "source": [
    "df_validation.groupby('pred_deciles').actual_appreciation.std().plot()\n",
    "ax.set_xlabel(\"Bucketed Predicted Appreciation\")\n",
    "ax.set_ylabel(\"Standard Deviation in Actuals\")\n",
    "ax.set_title(\"Std of Actual Appreciation vs Predicted Appreciation\")"
   ]
  },
  {
   "cell_type": "code",
   "execution_count": 35,
   "id": "8b4664b3",
   "metadata": {
    "ExecuteTime": {
     "end_time": "2021-08-11T06:37:55.367482Z",
     "start_time": "2021-08-11T06:37:55.361817Z"
    }
   },
   "outputs": [],
   "source": [
    "score_preds = xg_reg.predict(X_score)"
   ]
  },
  {
   "cell_type": "code",
   "execution_count": 36,
   "id": "7ee15fc5",
   "metadata": {
    "ExecuteTime": {
     "end_time": "2021-08-11T06:37:57.439051Z",
     "start_time": "2021-08-11T06:37:57.435418Z"
    }
   },
   "outputs": [
    {
     "data": {
      "text/plain": [
       "array([1.161448 , 1.2568164, 1.1033089, ..., 1.1992338, 1.1870375,\n",
       "       1.1630964], dtype=float32)"
      ]
     },
     "execution_count": 36,
     "metadata": {},
     "output_type": "execute_result"
    }
   ],
   "source": [
    "score_preds"
   ]
  },
  {
   "cell_type": "code",
   "execution_count": 37,
   "id": "7d688f19",
   "metadata": {
    "ExecuteTime": {
     "end_time": "2021-08-11T06:38:19.608856Z",
     "start_time": "2021-08-11T06:38:19.605564Z"
    }
   },
   "outputs": [],
   "source": [
    "df_score[\"predicted_3yr_appreciation\"] = score_preds"
   ]
  },
  {
   "cell_type": "code",
   "execution_count": 41,
   "id": "40e138af",
   "metadata": {
    "ExecuteTime": {
     "end_time": "2021-08-11T06:39:21.767067Z",
     "start_time": "2021-08-11T06:39:21.763117Z"
    }
   },
   "outputs": [],
   "source": [
    "df_score = df_score.sort_values(by= 'predicted_3yr_appreciation', ascending=False)"
   ]
  },
  {
   "cell_type": "code",
   "execution_count": 45,
   "id": "5e60c176",
   "metadata": {
    "ExecuteTime": {
     "end_time": "2021-08-11T06:40:52.677120Z",
     "start_time": "2021-08-11T06:40:52.663634Z"
    }
   },
   "outputs": [
    {
     "data": {
      "text/html": [
       "<div>\n",
       "<style scoped>\n",
       "    .dataframe tbody tr th:only-of-type {\n",
       "        vertical-align: middle;\n",
       "    }\n",
       "\n",
       "    .dataframe tbody tr th {\n",
       "        vertical-align: top;\n",
       "    }\n",
       "\n",
       "    .dataframe thead th {\n",
       "        text-align: right;\n",
       "    }\n",
       "</style>\n",
       "<table border=\"1\" class=\"dataframe\">\n",
       "  <thead>\n",
       "    <tr style=\"text-align: right;\">\n",
       "      <th></th>\n",
       "      <th>county</th>\n",
       "      <th>zhvi_weighted</th>\n",
       "      <th>population_growth</th>\n",
       "      <th>population</th>\n",
       "      <th>All industry total_growth</th>\n",
       "      <th>predicted_3yr_appreciation</th>\n",
       "    </tr>\n",
       "  </thead>\n",
       "  <tbody>\n",
       "    <tr>\n",
       "      <th>316</th>\n",
       "      <td>Okaloosa, FL</td>\n",
       "      <td>233766.252793</td>\n",
       "      <td>1.053316</td>\n",
       "      <td>210738</td>\n",
       "      <td>1.200725</td>\n",
       "      <td>1.504569</td>\n",
       "    </tr>\n",
       "    <tr>\n",
       "      <th>1190</th>\n",
       "      <td>Clark, NV</td>\n",
       "      <td>274750.589891</td>\n",
       "      <td>1.059789</td>\n",
       "      <td>2266715</td>\n",
       "      <td>1.191481</td>\n",
       "      <td>1.481814</td>\n",
       "    </tr>\n",
       "    <tr>\n",
       "      <th>1955</th>\n",
       "      <td>Clark, WA</td>\n",
       "      <td>376180.945645</td>\n",
       "      <td>1.049367</td>\n",
       "      <td>488241</td>\n",
       "      <td>1.272206</td>\n",
       "      <td>1.473726</td>\n",
       "    </tr>\n",
       "    <tr>\n",
       "      <th>278</th>\n",
       "      <td>Charlotte, FL</td>\n",
       "      <td>210779.049850</td>\n",
       "      <td>1.063257</td>\n",
       "      <td>188910</td>\n",
       "      <td>1.213175</td>\n",
       "      <td>1.472895</td>\n",
       "    </tr>\n",
       "    <tr>\n",
       "      <th>1977</th>\n",
       "      <td>Spokane, WA</td>\n",
       "      <td>262445.157946</td>\n",
       "      <td>1.052142</td>\n",
       "      <td>522798</td>\n",
       "      <td>1.244086</td>\n",
       "      <td>1.472365</td>\n",
       "    </tr>\n",
       "    <tr>\n",
       "      <th>502</th>\n",
       "      <td>Bingham, ID</td>\n",
       "      <td>210016.746596</td>\n",
       "      <td>1.033013</td>\n",
       "      <td>46811</td>\n",
       "      <td>1.239559</td>\n",
       "      <td>1.469829</td>\n",
       "    </tr>\n",
       "    <tr>\n",
       "      <th>1195</th>\n",
       "      <td>Carson City (Independent City), NV</td>\n",
       "      <td>344113.033258</td>\n",
       "      <td>1.032670</td>\n",
       "      <td>55916</td>\n",
       "      <td>1.202808</td>\n",
       "      <td>1.467884</td>\n",
       "    </tr>\n",
       "    <tr>\n",
       "      <th>1974</th>\n",
       "      <td>Skagit, WA</td>\n",
       "      <td>388226.406977</td>\n",
       "      <td>1.045323</td>\n",
       "      <td>129205</td>\n",
       "      <td>1.221597</td>\n",
       "      <td>1.463986</td>\n",
       "    </tr>\n",
       "    <tr>\n",
       "      <th>330</th>\n",
       "      <td>Sumter, FL</td>\n",
       "      <td>205211.715866</td>\n",
       "      <td>1.085330</td>\n",
       "      <td>132420</td>\n",
       "      <td>1.281399</td>\n",
       "      <td>1.455206</td>\n",
       "    </tr>\n",
       "    <tr>\n",
       "      <th>1574</th>\n",
       "      <td>Marion, OR</td>\n",
       "      <td>291972.126636</td>\n",
       "      <td>1.037080</td>\n",
       "      <td>347818</td>\n",
       "      <td>1.207708</td>\n",
       "      <td>1.454045</td>\n",
       "    </tr>\n",
       "    <tr>\n",
       "      <th>415</th>\n",
       "      <td>Jackson, GA</td>\n",
       "      <td>208174.770734</td>\n",
       "      <td>1.121670</td>\n",
       "      <td>72977</td>\n",
       "      <td>1.228664</td>\n",
       "      <td>1.452492</td>\n",
       "    </tr>\n",
       "    <tr>\n",
       "      <th>1791</th>\n",
       "      <td>Bastrop, TX</td>\n",
       "      <td>240409.274445</td>\n",
       "      <td>1.074245</td>\n",
       "      <td>88723</td>\n",
       "      <td>1.204352</td>\n",
       "      <td>1.448326</td>\n",
       "    </tr>\n",
       "    <tr>\n",
       "      <th>1556</th>\n",
       "      <td>Clackamas, OR</td>\n",
       "      <td>448891.561052</td>\n",
       "      <td>1.028434</td>\n",
       "      <td>418187</td>\n",
       "      <td>1.212729</td>\n",
       "      <td>1.442553</td>\n",
       "    </tr>\n",
       "    <tr>\n",
       "      <th>240</th>\n",
       "      <td>Montrose, CO</td>\n",
       "      <td>268580.947415</td>\n",
       "      <td>1.039051</td>\n",
       "      <td>42758</td>\n",
       "      <td>1.224334</td>\n",
       "      <td>1.442389</td>\n",
       "    </tr>\n",
       "    <tr>\n",
       "      <th>205</th>\n",
       "      <td>Yuba, CA</td>\n",
       "      <td>258584.950153</td>\n",
       "      <td>1.049578</td>\n",
       "      <td>78668</td>\n",
       "      <td>1.214029</td>\n",
       "      <td>1.438916</td>\n",
       "    </tr>\n",
       "    <tr>\n",
       "      <th>497</th>\n",
       "      <td>Hawaii, HI</td>\n",
       "      <td>366363.138395</td>\n",
       "      <td>1.016121</td>\n",
       "      <td>201513</td>\n",
       "      <td>1.191822</td>\n",
       "      <td>1.437014</td>\n",
       "    </tr>\n",
       "    <tr>\n",
       "      <th>1568</th>\n",
       "      <td>Josephine, OR</td>\n",
       "      <td>304340.626882</td>\n",
       "      <td>1.023192</td>\n",
       "      <td>87487</td>\n",
       "      <td>1.226067</td>\n",
       "      <td>1.435534</td>\n",
       "    </tr>\n",
       "    <tr>\n",
       "      <th>325</th>\n",
       "      <td>St. Johns, FL</td>\n",
       "      <td>329404.187083</td>\n",
       "      <td>1.127089</td>\n",
       "      <td>264672</td>\n",
       "      <td>1.240452</td>\n",
       "      <td>1.434135</td>\n",
       "    </tr>\n",
       "    <tr>\n",
       "      <th>275</th>\n",
       "      <td>Brevard, FL</td>\n",
       "      <td>228709.745039</td>\n",
       "      <td>1.043455</td>\n",
       "      <td>601942</td>\n",
       "      <td>1.209874</td>\n",
       "      <td>1.431844</td>\n",
       "    </tr>\n",
       "    <tr>\n",
       "      <th>158</th>\n",
       "      <td>El Dorado, CA</td>\n",
       "      <td>457856.886470</td>\n",
       "      <td>1.036924</td>\n",
       "      <td>192843</td>\n",
       "      <td>1.209667</td>\n",
       "      <td>1.431217</td>\n",
       "    </tr>\n",
       "    <tr>\n",
       "      <th>344</th>\n",
       "      <td>Barrow, GA</td>\n",
       "      <td>225600.406286</td>\n",
       "      <td>1.081039</td>\n",
       "      <td>83240</td>\n",
       "      <td>1.232177</td>\n",
       "      <td>1.429743</td>\n",
       "    </tr>\n",
       "    <tr>\n",
       "      <th>1832</th>\n",
       "      <td>Johnson, TX</td>\n",
       "      <td>258481.712777</td>\n",
       "      <td>1.080203</td>\n",
       "      <td>175817</td>\n",
       "      <td>1.190965</td>\n",
       "      <td>1.426855</td>\n",
       "    </tr>\n",
       "    <tr>\n",
       "      <th>1809</th>\n",
       "      <td>Erath, TX</td>\n",
       "      <td>273847.008186</td>\n",
       "      <td>1.032051</td>\n",
       "      <td>42698</td>\n",
       "      <td>1.259054</td>\n",
       "      <td>1.425594</td>\n",
       "    </tr>\n",
       "    <tr>\n",
       "      <th>1557</th>\n",
       "      <td>Clatsop, OR</td>\n",
       "      <td>310187.882907</td>\n",
       "      <td>1.039971</td>\n",
       "      <td>40224</td>\n",
       "      <td>1.196678</td>\n",
       "      <td>1.424050</td>\n",
       "    </tr>\n",
       "    <tr>\n",
       "      <th>335</th>\n",
       "      <td>Wakulla, FL</td>\n",
       "      <td>185717.210816</td>\n",
       "      <td>1.058246</td>\n",
       "      <td>33739</td>\n",
       "      <td>1.200361</td>\n",
       "      <td>1.421895</td>\n",
       "    </tr>\n",
       "    <tr>\n",
       "      <th>901</th>\n",
       "      <td>Frederick, MD</td>\n",
       "      <td>343601.035226</td>\n",
       "      <td>1.050802</td>\n",
       "      <td>259547</td>\n",
       "      <td>1.124694</td>\n",
       "      <td>1.420357</td>\n",
       "    </tr>\n",
       "    <tr>\n",
       "      <th>315</th>\n",
       "      <td>Nassau, FL</td>\n",
       "      <td>274809.400080</td>\n",
       "      <td>1.107051</td>\n",
       "      <td>88625</td>\n",
       "      <td>1.239197</td>\n",
       "      <td>1.417750</td>\n",
       "    </tr>\n",
       "    <tr>\n",
       "      <th>504</th>\n",
       "      <td>Bonneville, ID</td>\n",
       "      <td>221882.260884</td>\n",
       "      <td>1.061935</td>\n",
       "      <td>119062</td>\n",
       "      <td>1.244403</td>\n",
       "      <td>1.414471</td>\n",
       "    </tr>\n",
       "    <tr>\n",
       "      <th>1972</th>\n",
       "      <td>Pierce, WA</td>\n",
       "      <td>366128.506469</td>\n",
       "      <td>1.048772</td>\n",
       "      <td>904980</td>\n",
       "      <td>1.215520</td>\n",
       "      <td>1.413994</td>\n",
       "    </tr>\n",
       "    <tr>\n",
       "      <th>1981</th>\n",
       "      <td>Whatcom, WA</td>\n",
       "      <td>390349.578119</td>\n",
       "      <td>1.059284</td>\n",
       "      <td>229247</td>\n",
       "      <td>1.390203</td>\n",
       "      <td>1.409298</td>\n",
       "    </tr>\n",
       "  </tbody>\n",
       "</table>\n",
       "</div>"
      ],
      "text/plain": [
       "                                  county  zhvi_weighted  population_growth  \\\n",
       "316                         Okaloosa, FL  233766.252793           1.053316   \n",
       "1190                           Clark, NV  274750.589891           1.059789   \n",
       "1955                           Clark, WA  376180.945645           1.049367   \n",
       "278                        Charlotte, FL  210779.049850           1.063257   \n",
       "1977                         Spokane, WA  262445.157946           1.052142   \n",
       "502                          Bingham, ID  210016.746596           1.033013   \n",
       "1195  Carson City (Independent City), NV  344113.033258           1.032670   \n",
       "1974                          Skagit, WA  388226.406977           1.045323   \n",
       "330                           Sumter, FL  205211.715866           1.085330   \n",
       "1574                          Marion, OR  291972.126636           1.037080   \n",
       "415                          Jackson, GA  208174.770734           1.121670   \n",
       "1791                         Bastrop, TX  240409.274445           1.074245   \n",
       "1556                       Clackamas, OR  448891.561052           1.028434   \n",
       "240                         Montrose, CO  268580.947415           1.039051   \n",
       "205                             Yuba, CA  258584.950153           1.049578   \n",
       "497                           Hawaii, HI  366363.138395           1.016121   \n",
       "1568                       Josephine, OR  304340.626882           1.023192   \n",
       "325                        St. Johns, FL  329404.187083           1.127089   \n",
       "275                          Brevard, FL  228709.745039           1.043455   \n",
       "158                        El Dorado, CA  457856.886470           1.036924   \n",
       "344                           Barrow, GA  225600.406286           1.081039   \n",
       "1832                         Johnson, TX  258481.712777           1.080203   \n",
       "1809                           Erath, TX  273847.008186           1.032051   \n",
       "1557                         Clatsop, OR  310187.882907           1.039971   \n",
       "335                          Wakulla, FL  185717.210816           1.058246   \n",
       "901                        Frederick, MD  343601.035226           1.050802   \n",
       "315                           Nassau, FL  274809.400080           1.107051   \n",
       "504                       Bonneville, ID  221882.260884           1.061935   \n",
       "1972                          Pierce, WA  366128.506469           1.048772   \n",
       "1981                         Whatcom, WA  390349.578119           1.059284   \n",
       "\n",
       "      population  All industry total_growth  predicted_3yr_appreciation  \n",
       "316       210738                   1.200725                    1.504569  \n",
       "1190     2266715                   1.191481                    1.481814  \n",
       "1955      488241                   1.272206                    1.473726  \n",
       "278       188910                   1.213175                    1.472895  \n",
       "1977      522798                   1.244086                    1.472365  \n",
       "502        46811                   1.239559                    1.469829  \n",
       "1195       55916                   1.202808                    1.467884  \n",
       "1974      129205                   1.221597                    1.463986  \n",
       "330       132420                   1.281399                    1.455206  \n",
       "1574      347818                   1.207708                    1.454045  \n",
       "415        72977                   1.228664                    1.452492  \n",
       "1791       88723                   1.204352                    1.448326  \n",
       "1556      418187                   1.212729                    1.442553  \n",
       "240        42758                   1.224334                    1.442389  \n",
       "205        78668                   1.214029                    1.438916  \n",
       "497       201513                   1.191822                    1.437014  \n",
       "1568       87487                   1.226067                    1.435534  \n",
       "325       264672                   1.240452                    1.434135  \n",
       "275       601942                   1.209874                    1.431844  \n",
       "158       192843                   1.209667                    1.431217  \n",
       "344        83240                   1.232177                    1.429743  \n",
       "1832      175817                   1.190965                    1.426855  \n",
       "1809       42698                   1.259054                    1.425594  \n",
       "1557       40224                   1.196678                    1.424050  \n",
       "335        33739                   1.200361                    1.421895  \n",
       "901       259547                   1.124694                    1.420357  \n",
       "315        88625                   1.239197                    1.417750  \n",
       "504       119062                   1.244403                    1.414471  \n",
       "1972      904980                   1.215520                    1.413994  \n",
       "1981      229247                   1.390203                    1.409298  "
      ]
     },
     "execution_count": 45,
     "metadata": {},
     "output_type": "execute_result"
    }
   ],
   "source": [
    "df_score[[\"county\",\"zhvi_weighted\",\"population_growth\",\"population\",\"All industry total_growth\",\"predicted_3yr_appreciation\"]].head(30)"
   ]
  },
  {
   "cell_type": "code",
   "execution_count": null,
   "id": "7a057fd8",
   "metadata": {},
   "outputs": [],
   "source": []
  }
 ],
 "metadata": {
  "kernelspec": {
   "display_name": "Python 3",
   "language": "python",
   "name": "python3"
  },
  "language_info": {
   "codemirror_mode": {
    "name": "ipython",
    "version": 3
   },
   "file_extension": ".py",
   "mimetype": "text/x-python",
   "name": "python",
   "nbconvert_exporter": "python",
   "pygments_lexer": "ipython3",
   "version": "3.6.9"
  }
 },
 "nbformat": 4,
 "nbformat_minor": 5
}
