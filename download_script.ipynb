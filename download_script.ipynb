{
 "cells": [
  {
   "cell_type": "code",
   "execution_count": 1,
   "id": "3befe82b",
   "metadata": {
    "ExecuteTime": {
     "end_time": "2021-08-20T21:16:08.428069Z",
     "start_time": "2021-08-20T21:16:03.174263Z"
    }
   },
   "outputs": [],
   "source": [
    "import pandas as pd\n",
    "zhvi = pd.read_csv('ZHVI/Zip_zhvi_uc_sfrcondo_tier_0.33_0.67_sm_sa_month.csv')\n",
    "zhvi = pd.melt(zhvi, id_vars=['RegionID','SizeRank','RegionName','RegionType','StateName','State','City','Metro','CountyName'])\n",
    "zhvi.rename(columns={\"RegionName\": \"zipcode\", \"StateName\": \"state\", \"Metro\": \"msa\", \"CountyName\": \"county\", \"variable\":\"month\", \"value\":\"zhvi\"}, inplace = True)\n"
   ]
  },
  {
   "cell_type": "code",
   "execution_count": 7,
   "id": "f72a8402",
   "metadata": {
    "ExecuteTime": {
     "end_time": "2021-08-20T21:18:15.416411Z",
     "start_time": "2021-08-20T21:18:13.795282Z"
    }
   },
   "outputs": [],
   "source": [
    "zhvi.loc[zhvi.msa == \"Atlanta-Sandy Springs-Roswell\"].to_csv(\"atl_zips.csv\")"
   ]
  },
  {
   "cell_type": "code",
   "execution_count": null,
   "id": "2ce634b0",
   "metadata": {},
   "outputs": [],
   "source": []
  }
 ],
 "metadata": {
  "kernelspec": {
   "display_name": "Python 3",
   "language": "python",
   "name": "python3"
  },
  "language_info": {
   "codemirror_mode": {
    "name": "ipython",
    "version": 3
   },
   "file_extension": ".py",
   "mimetype": "text/x-python",
   "name": "python",
   "nbconvert_exporter": "python",
   "pygments_lexer": "ipython3",
   "version": "3.6.9"
  }
 },
 "nbformat": 4,
 "nbformat_minor": 5
}
