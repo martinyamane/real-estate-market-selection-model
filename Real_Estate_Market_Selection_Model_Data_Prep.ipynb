{
 "cells": [
  {
   "cell_type": "markdown",
   "id": "24522e86",
   "metadata": {},
   "source": [
    "# Real Estate Market Selection Model"
   ]
  },
  {
   "cell_type": "markdown",
   "id": "73166ed1",
   "metadata": {},
   "source": [
    "<b> Goal of Model and Analysis </b>\n",
    "    \n",
    "The goal of this analysis is to help inform which city Mehrmah and I decide to buy an investment property in.  The output of the analysis will be a ranked list of cities with forecasted 5YR and 10YR appreciation values.\n",
    "\n",
    "In order to reduce the risk of us losing money, a strict criteria for our next investment property is that it will be cashflow neutral or better, however we recognize that appreciation will likely be the primary way to get strong returns.  Therefore, our objective function is to maximize appreciation under the constraint that the property cashflows with a 20% downpayment. \n",
    "\n",
    "Given a property’s ability to cashflow requires analysis on the individual property, we will first do the analysis to determine which markets to look at individual properties in.  \n"
   ]
  },
  {
   "cell_type": "code",
   "execution_count": 1,
   "id": "54a25163",
   "metadata": {
    "ExecuteTime": {
     "end_time": "2021-08-10T04:56:10.382016Z",
     "start_time": "2021-08-10T04:56:07.717697Z"
    }
   },
   "outputs": [
    {
     "name": "stdout",
     "output_type": "stream",
     "text": [
      "Looking in indexes: https://pypi.lyft.net/simple/, https://pypi.lyft.net/pypi/\n",
      "Requirement already satisfied: fuzzywuzzy in /code/venvs/venv/lib/python3.6/site-packages (0.18.0)\n",
      "Note: you may need to restart the kernel to use updated packages.\n"
     ]
    }
   ],
   "source": [
    "pip install fuzzywuzzy"
   ]
  },
  {
   "cell_type": "code",
   "execution_count": 2,
   "id": "cfb3a02d",
   "metadata": {
    "ExecuteTime": {
     "end_time": "2021-08-10T04:56:13.067861Z",
     "start_time": "2021-08-10T04:56:10.383900Z"
    }
   },
   "outputs": [
    {
     "name": "stdout",
     "output_type": "stream",
     "text": [
      "Looking in indexes: https://pypi.lyft.net/simple/, https://pypi.lyft.net/pypi/\n",
      "Requirement already satisfied: pandasql in /code/venvs/venv/lib/python3.6/site-packages (0.7.3)\n",
      "Requirement already satisfied: numpy in /code/venvs/venv/lib/python3.6/site-packages (from pandasql) (1.19.5)\n",
      "Requirement already satisfied: sqlalchemy in /code/venvs/venv/lib/python3.6/site-packages (from pandasql) (1.4.5)\n",
      "Requirement already satisfied: pandas in /code/venvs/venv/lib/python3.6/site-packages (from pandasql) (1.1.5)\n",
      "Requirement already satisfied: pytz>=2017.2 in /code/venvs/venv/lib/python3.6/site-packages (from pandas->pandasql) (2018.4)\n",
      "Requirement already satisfied: python-dateutil>=2.7.3 in /code/venvs/venv/lib/python3.6/site-packages (from pandas->pandasql) (2.8.1)\n",
      "Requirement already satisfied: six>=1.5 in /code/venvs/venv/lib/python3.6/site-packages (from python-dateutil>=2.7.3->pandas->pandasql) (1.15.0)\n",
      "Requirement already satisfied: greenlet!=0.4.17 in /code/venvs/venv/lib/python3.6/site-packages (from sqlalchemy->pandasql) (1.0.0)\n",
      "Requirement already satisfied: importlib-metadata in /code/venvs/venv/lib/python3.6/site-packages (from sqlalchemy->pandasql) (3.10.0)\n",
      "Requirement already satisfied: zipp>=0.5 in /code/venvs/venv/lib/python3.6/site-packages (from importlib-metadata->sqlalchemy->pandasql) (3.4.1)\n",
      "Requirement already satisfied: typing-extensions>=3.6.4 in /code/venvs/venv/lib/python3.6/site-packages (from importlib-metadata->sqlalchemy->pandasql) (3.7.4.3)\n",
      "Note: you may need to restart the kernel to use updated packages.\n"
     ]
    }
   ],
   "source": [
    "pip install pandasql"
   ]
  },
  {
   "cell_type": "code",
   "execution_count": 3,
   "id": "b6a5e26c",
   "metadata": {
    "ExecuteTime": {
     "end_time": "2021-08-10T04:56:13.520188Z",
     "start_time": "2021-08-10T04:56:13.069705Z"
    }
   },
   "outputs": [],
   "source": [
    "import pandas as pd\n",
    "import pandasql"
   ]
  },
  {
   "cell_type": "markdown",
   "id": "523f5f0d",
   "metadata": {
    "ExecuteTime": {
     "end_time": "2021-08-10T02:27:07.196992Z",
     "start_time": "2021-08-10T02:27:07.194500Z"
    }
   },
   "source": [
    "# Data Imports and Reformating"
   ]
  },
  {
   "cell_type": "code",
   "execution_count": 4,
   "id": "f9305484",
   "metadata": {
    "ExecuteTime": {
     "end_time": "2021-08-10T04:56:13.579336Z",
     "start_time": "2021-08-10T04:56:13.521725Z"
    }
   },
   "outputs": [],
   "source": [
    "# import zipcode to FIPS mapping\n",
    "zip_mapping = pd.read_csv('ZIP-COUNTY-FIPS_2018-03.csv')\n",
    "zip_mapping.rename(columns={\"ZIP\": \"zipcode\", \"STCOUNTYFP\": \"fips\", \"CITY\": \"city_mapped\", \"STATE\": \"state_mapped\", \"COUNTYNAME\":\"county_mapped\", \"CLASSFP\":\"classfp\"}, inplace = True)"
   ]
  },
  {
   "cell_type": "code",
   "execution_count": 5,
   "id": "33047e07",
   "metadata": {
    "ExecuteTime": {
     "end_time": "2021-08-10T04:56:13.598604Z",
     "start_time": "2021-08-10T04:56:13.581606Z"
    }
   },
   "outputs": [],
   "source": [
    "# import 2010 population by zipcode data for ZHVI weighting\n",
    "pop_weights = pd.read_csv('Population/Census+Population+By+Zipcode+(ZCTA).csv')"
   ]
  },
  {
   "cell_type": "code",
   "execution_count": 6,
   "id": "e75e850c",
   "metadata": {
    "ExecuteTime": {
     "end_time": "2021-08-10T04:56:21.558628Z",
     "start_time": "2021-08-10T04:56:13.599941Z"
    }
   },
   "outputs": [],
   "source": [
    "# import and reformat ZHVI data\n",
    "zhvi = pd.read_csv('ZHVI/Zip_zhvi_uc_sfrcondo_tier_0.33_0.67_sm_sa_month.csv')\n",
    "zhvi = pd.melt(zhvi, id_vars=['RegionID','SizeRank','RegionName','RegionType','StateName','State','City','Metro','CountyName'])\n",
    "zhvi.rename(columns={\"RegionName\": \"zipcode\", \"StateName\": \"state\", \"Metro\": \"msa\", \"CountyName\": \"county\", \"variable\":\"month\", \"value\":\"zhvi\"}, inplace = True)\n",
    "zhvi['month'] = pd.to_datetime(zhvi.month, infer_datetime_format=True)\n",
    "zhvi['year'] = zhvi.month.dt.year\n",
    "zhvi = zhvi[[\"zipcode\",\"state\",\"msa\",\"county\",\"year\",\"zhvi\"]].loc[zhvi.month.dt.month == 1]\n",
    "zhvi = zhvi.merge(zip_mapping, how = 'left',left_on = 'zipcode',right_on = 'zipcode')\n"
   ]
  },
  {
   "cell_type": "code",
   "execution_count": 7,
   "id": "edc10af7",
   "metadata": {
    "ExecuteTime": {
     "end_time": "2021-08-10T04:56:30.693733Z",
     "start_time": "2021-08-10T04:56:21.561117Z"
    }
   },
   "outputs": [
    {
     "name": "stderr",
     "output_type": "stream",
     "text": [
      "/code/venvs/venv/lib/python3.6/site-packages/ipykernel_launcher.py:2: ParserWarning: Falling back to the 'python' engine because the 'c' engine does not support skipfooter; you can avoid this warning by specifying engine='python'.\n",
      "  \n"
     ]
    }
   ],
   "source": [
    "# import and reformat GDP data\n",
    "gdp_county = pd.read_csv('GDP/CAGDP2__ALL_AREAS_2001_2019.csv', skipfooter = 4)\n",
    "gdp_county.GeoFIPS = gdp_county.GeoFIPS.str.replace('\"', '')\n",
    "gdp_county = pd.melt(gdp_county, id_vars=['GeoFIPS','GeoName','Region','TableName','LineCode','IndustryClassification','Description','Unit'])\n",
    "gdp_county.rename(columns={\"GeoFIPS\": \"fips\", \"GeoName\": \"county\", \"Description\": \"metric\", \"variable\": \"year\", \"value\":\"gdp\"}, inplace = True)\n",
    "gdp_county = gdp_county[[\"fips\",\"county\",\"metric\",\"year\",\"gdp\"]]\n",
    "gdp_county = gdp_county[gdp_county.gdp.str.isnumeric() == True]  #dropping empty values\n",
    "gdp_county.gdp = pd.to_numeric(gdp_county.gdp)\n",
    "gdp_county = gdp_county.pivot_table(index=[\"fips\",\"county\",\"year\"], columns=\"metric\")['gdp'].reset_index()\n",
    "gdp_county.columns.name = None\n",
    "gdp_county.fips = gdp_county.fips.str.replace(' ','')\n",
    "gdp_county.fips = pd.to_numeric(gdp_county.fips)\n",
    "gdp_county.year = gdp_county.year.astype(int)\n"
   ]
  },
  {
   "cell_type": "code",
   "execution_count": 8,
   "id": "88812809",
   "metadata": {
    "ExecuteTime": {
     "end_time": "2021-08-10T04:56:30.715150Z",
     "start_time": "2021-08-10T04:56:30.696017Z"
    },
    "scrolled": true
   },
   "outputs": [],
   "source": [
    "# import and reformat 2000 Population data\n",
    "pop_2000 = pd.read_csv('Population/DECENNIALSF12000.P001_data_with_overlays_2021-07-23T112021.csv')\n",
    "\n",
    "#all FIPS start with 0500000US in this dataset.  cutting that part out\n",
    "pop_2000.GEO_ID = pop_2000.GEO_ID.str.replace('0500000US','')\n",
    "pop_2000 = pop_2000[~(pop_2000.GEO_ID == 'id')] #filtering out header row\n",
    "pop_2000.GEO_ID = pd.to_numeric(pop_2000.GEO_ID)\n",
    "pop_2000[\"year\"] = 2000\n",
    "pop_2000.rename(columns={\"GEO_ID\": \"fips\", \"NAME\": \"county\", \"P001001\": \"population\"}, inplace = True)\n"
   ]
  },
  {
   "cell_type": "code",
   "execution_count": 9,
   "id": "125a2908",
   "metadata": {
    "ExecuteTime": {
     "end_time": "2021-08-10T04:56:30.909172Z",
     "start_time": "2021-08-10T04:56:30.716702Z"
    }
   },
   "outputs": [],
   "source": [
    "# import and reformat 2010 to 2020 Population data\n",
    "pop_2010_2020 = pd.read_csv('Population/PEPPOP2019.PEPANNRES_data_with_overlays_2021-08-08T193054.csv')\n",
    "pop_2010_2020.head()\n",
    "pop_2010_2020 = pop_2010_2020[~pop_2010_2020.DATE_CODE.str.contains('Census')]\n",
    "pop_2010_2020 = pop_2010_2020[~pop_2010_2020.DATE_CODE.str.contains('base')]\n",
    "pop_2010_2020.DATE_CODE = pop_2010_2020.DATE_CODE.str.slice(stop = 8)\n",
    "pop_2010_2020.DATE_CODE = pop_2010_2020.DATE_CODE.str.slice(start = 4)\n",
    "pop_2010_2020 = pop_2010_2020[~(pop_2010_2020.GEO_ID == 'id')] #filtering out header row\n",
    "pop_2010_2020.GEO_ID = pop_2010_2020.GEO_ID.str.replace('0500000US','')\n",
    "pop_2010_2020.rename(columns={\"GEO_ID\": \"fips\", \"NAME\": \"county\",\"DATE_CODE\": \"year\", \"POP\": \"population\"}, inplace = True)\n",
    "pop_2010_2020.fips = pd.to_numeric(pop_2010_2020.fips)\n",
    "pop_2010_2020.year = pd.to_numeric(pop_2010_2020.year)\n",
    "pop_2010_2020.population = pd.to_numeric(pop_2010_2020.population)\n"
   ]
  },
  {
   "cell_type": "code",
   "execution_count": 10,
   "id": "aefa187c",
   "metadata": {
    "ExecuteTime": {
     "end_time": "2021-08-10T04:56:30.972635Z",
     "start_time": "2021-08-10T04:56:30.910550Z"
    }
   },
   "outputs": [
    {
     "name": "stdout",
     "output_type": "stream",
     "text": [
      "15\n"
     ]
    }
   ],
   "source": [
    "#merge the two population datasets together\n",
    "population = pd.concat([pop_2000, pop_2010_2020])\n",
    "\n",
    "#linearly interpolate missing years from 2000 to 2010\n",
    "population_start = population[population.year ==2000][['fips','population']]\n",
    "population_start.rename(columns={\"population\":\"2000_pop\"}, inplace = True)\n",
    "\n",
    "population_end = population[population.year ==2010][['fips','population']]\n",
    "population_end.rename(columns={\"population\":\"2010_pop\"}, inplace = True)\n",
    "\n",
    "population_slope = population_start.merge(population_end, how = 'left', on = 'fips')\n",
    "population_slope[\"slope\"] = (pd.to_numeric(population_slope[\"2010_pop\"]) - pd.to_numeric(population_slope[\"2000_pop\"]))/10\n",
    "population_slope\n",
    "\n",
    "fips = pd.DataFrame(population.fips.unique(), columns = ['fips'])\n",
    "years = pd.DataFrame({'year': [x for x in range(2001, 2010)]})\n",
    "\n",
    "fips['key'] = 1\n",
    "years['key'] = 1\n",
    "\n",
    "interpolated_pop = pd.merge(fips, years, on ='key').drop(\"key\", 1)\n",
    "interpolated_pop = interpolated_pop.merge(population_slope, how = 'left', on = 'fips')\n",
    "interpolated_pop[\"baseline_year\"] = 2000\n",
    "interpolated_pop[\"2000_pop\"] = pd.to_numeric(interpolated_pop[\"2000_pop\"])\n",
    "interpolated_pop[\"2010_pop\"]= pd.to_numeric(interpolated_pop[\"2010_pop\"])\n",
    "interpolated_pop[\"population\"] = interpolated_pop[\"2000_pop\"] + (interpolated_pop[\"year\"]-interpolated_pop[\"baseline_year\"])*interpolated_pop[\"slope\"]\n",
    "\n",
    "#15 missing fips due to 2000 population data not existing\n",
    "print(interpolated_pop[interpolated_pop.population.isnull()].fips.nunique())\n",
    "interpolated_pop = interpolated_pop[[\"fips\",\"year\",\"population\"]]\n",
    "\n",
    "population_w_estimates = pd.concat([population[[\"fips\",\"year\",\"population\"]], interpolated_pop]) \n",
    "\n",
    "#df['key'] = 1\n",
    "#df1['key'] = 1\n",
    "#result = pd.merge(df, df1, on ='key').drop(\"key\", 1)"
   ]
  },
  {
   "cell_type": "code",
   "execution_count": 11,
   "id": "7aba33ee",
   "metadata": {
    "ExecuteTime": {
     "end_time": "2021-08-10T04:56:31.032976Z",
     "start_time": "2021-08-10T04:56:30.974017Z"
    },
    "scrolled": true
   },
   "outputs": [
    {
     "data": {
      "text/html": [
       "<div>\n",
       "<style scoped>\n",
       "    .dataframe tbody tr th:only-of-type {\n",
       "        vertical-align: middle;\n",
       "    }\n",
       "\n",
       "    .dataframe tbody tr th {\n",
       "        vertical-align: top;\n",
       "    }\n",
       "\n",
       "    .dataframe thead th {\n",
       "        text-align: right;\n",
       "    }\n",
       "</style>\n",
       "<table border=\"1\" class=\"dataframe\">\n",
       "  <thead>\n",
       "    <tr style=\"text-align: right;\">\n",
       "      <th></th>\n",
       "      <th>RegionID</th>\n",
       "      <th>RegionName</th>\n",
       "      <th>SizeRank</th>\n",
       "      <th>MsaName</th>\n",
       "      <th>2014-01</th>\n",
       "      <th>2014-02</th>\n",
       "      <th>2014-03</th>\n",
       "      <th>2014-04</th>\n",
       "      <th>2014-05</th>\n",
       "      <th>2014-06</th>\n",
       "      <th>...</th>\n",
       "      <th>2020-09</th>\n",
       "      <th>2020-10</th>\n",
       "      <th>2020-11</th>\n",
       "      <th>2020-12</th>\n",
       "      <th>2021-01</th>\n",
       "      <th>2021-02</th>\n",
       "      <th>2021-03</th>\n",
       "      <th>2021-04</th>\n",
       "      <th>2021-05</th>\n",
       "      <th>2021-06</th>\n",
       "    </tr>\n",
       "  </thead>\n",
       "  <tbody>\n",
       "    <tr>\n",
       "      <th>0</th>\n",
       "      <td>61639</td>\n",
       "      <td>10025</td>\n",
       "      <td>1</td>\n",
       "      <td>New York, NY</td>\n",
       "      <td>2889.0</td>\n",
       "      <td>2904.0</td>\n",
       "      <td>2919.0</td>\n",
       "      <td>2935.0</td>\n",
       "      <td>2949.0</td>\n",
       "      <td>2964.0</td>\n",
       "      <td>...</td>\n",
       "      <td>2986.0</td>\n",
       "      <td>2958.0</td>\n",
       "      <td>2939.0</td>\n",
       "      <td>2919.0</td>\n",
       "      <td>2900.0</td>\n",
       "      <td>2883.0</td>\n",
       "      <td>2865.0</td>\n",
       "      <td>2848.0</td>\n",
       "      <td>2834.0</td>\n",
       "      <td>2820.0</td>\n",
       "    </tr>\n",
       "    <tr>\n",
       "      <th>1</th>\n",
       "      <td>84654</td>\n",
       "      <td>60657</td>\n",
       "      <td>2</td>\n",
       "      <td>Chicago, IL</td>\n",
       "      <td>1444.0</td>\n",
       "      <td>1449.0</td>\n",
       "      <td>1454.0</td>\n",
       "      <td>1460.0</td>\n",
       "      <td>1465.0</td>\n",
       "      <td>1470.0</td>\n",
       "      <td>...</td>\n",
       "      <td>1645.0</td>\n",
       "      <td>1642.0</td>\n",
       "      <td>1639.0</td>\n",
       "      <td>1636.0</td>\n",
       "      <td>1634.0</td>\n",
       "      <td>1631.0</td>\n",
       "      <td>1629.0</td>\n",
       "      <td>1627.0</td>\n",
       "      <td>1625.0</td>\n",
       "      <td>1623.0</td>\n",
       "    </tr>\n",
       "    <tr>\n",
       "      <th>2</th>\n",
       "      <td>61637</td>\n",
       "      <td>10023</td>\n",
       "      <td>3</td>\n",
       "      <td>New York, NY</td>\n",
       "      <td>3014.0</td>\n",
       "      <td>3024.0</td>\n",
       "      <td>3033.0</td>\n",
       "      <td>3043.0</td>\n",
       "      <td>3052.0</td>\n",
       "      <td>3061.0</td>\n",
       "      <td>...</td>\n",
       "      <td>2997.0</td>\n",
       "      <td>2968.0</td>\n",
       "      <td>2946.0</td>\n",
       "      <td>2924.0</td>\n",
       "      <td>2902.0</td>\n",
       "      <td>2881.0</td>\n",
       "      <td>2861.0</td>\n",
       "      <td>2841.0</td>\n",
       "      <td>2824.0</td>\n",
       "      <td>2807.0</td>\n",
       "    </tr>\n",
       "    <tr>\n",
       "      <th>3</th>\n",
       "      <td>91982</td>\n",
       "      <td>77494</td>\n",
       "      <td>4</td>\n",
       "      <td>Houston, TX</td>\n",
       "      <td>1454.0</td>\n",
       "      <td>1451.0</td>\n",
       "      <td>1448.0</td>\n",
       "      <td>1445.0</td>\n",
       "      <td>1442.0</td>\n",
       "      <td>1439.0</td>\n",
       "      <td>...</td>\n",
       "      <td>1439.0</td>\n",
       "      <td>1443.0</td>\n",
       "      <td>1449.0</td>\n",
       "      <td>1456.0</td>\n",
       "      <td>1462.0</td>\n",
       "      <td>1469.0</td>\n",
       "      <td>1476.0</td>\n",
       "      <td>1483.0</td>\n",
       "      <td>1490.0</td>\n",
       "      <td>1497.0</td>\n",
       "    </tr>\n",
       "    <tr>\n",
       "      <th>4</th>\n",
       "      <td>84616</td>\n",
       "      <td>60614</td>\n",
       "      <td>5</td>\n",
       "      <td>Chicago, IL</td>\n",
       "      <td>1685.0</td>\n",
       "      <td>1690.0</td>\n",
       "      <td>1695.0</td>\n",
       "      <td>1700.0</td>\n",
       "      <td>1705.0</td>\n",
       "      <td>1709.0</td>\n",
       "      <td>...</td>\n",
       "      <td>1924.0</td>\n",
       "      <td>1918.0</td>\n",
       "      <td>1915.0</td>\n",
       "      <td>1912.0</td>\n",
       "      <td>1909.0</td>\n",
       "      <td>1906.0</td>\n",
       "      <td>1904.0</td>\n",
       "      <td>1902.0</td>\n",
       "      <td>1900.0</td>\n",
       "      <td>1899.0</td>\n",
       "    </tr>\n",
       "    <tr>\n",
       "      <th>...</th>\n",
       "      <td>...</td>\n",
       "      <td>...</td>\n",
       "      <td>...</td>\n",
       "      <td>...</td>\n",
       "      <td>...</td>\n",
       "      <td>...</td>\n",
       "      <td>...</td>\n",
       "      <td>...</td>\n",
       "      <td>...</td>\n",
       "      <td>...</td>\n",
       "      <td>...</td>\n",
       "      <td>...</td>\n",
       "      <td>...</td>\n",
       "      <td>...</td>\n",
       "      <td>...</td>\n",
       "      <td>...</td>\n",
       "      <td>...</td>\n",
       "      <td>...</td>\n",
       "      <td>...</td>\n",
       "      <td>...</td>\n",
       "      <td>...</td>\n",
       "    </tr>\n",
       "    <tr>\n",
       "      <th>1738</th>\n",
       "      <td>67751</td>\n",
       "      <td>23507</td>\n",
       "      <td>8041</td>\n",
       "      <td>Virginia Beach, VA</td>\n",
       "      <td>1077.0</td>\n",
       "      <td>1075.0</td>\n",
       "      <td>NaN</td>\n",
       "      <td>1070.0</td>\n",
       "      <td>1068.0</td>\n",
       "      <td>1065.0</td>\n",
       "      <td>...</td>\n",
       "      <td>1182.0</td>\n",
       "      <td>1185.0</td>\n",
       "      <td>1188.0</td>\n",
       "      <td>1190.0</td>\n",
       "      <td>1193.0</td>\n",
       "      <td>1195.0</td>\n",
       "      <td>1198.0</td>\n",
       "      <td>1200.0</td>\n",
       "      <td>1203.0</td>\n",
       "      <td>1205.0</td>\n",
       "    </tr>\n",
       "    <tr>\n",
       "      <th>1739</th>\n",
       "      <td>84608</td>\n",
       "      <td>60606</td>\n",
       "      <td>8497</td>\n",
       "      <td>Chicago, IL</td>\n",
       "      <td>1980.0</td>\n",
       "      <td>1979.0</td>\n",
       "      <td>1978.0</td>\n",
       "      <td>1977.0</td>\n",
       "      <td>1977.0</td>\n",
       "      <td>1977.0</td>\n",
       "      <td>...</td>\n",
       "      <td>2040.0</td>\n",
       "      <td>2023.0</td>\n",
       "      <td>2013.0</td>\n",
       "      <td>2003.0</td>\n",
       "      <td>1993.0</td>\n",
       "      <td>1984.0</td>\n",
       "      <td>1975.0</td>\n",
       "      <td>1966.0</td>\n",
       "      <td>1959.0</td>\n",
       "      <td>1952.0</td>\n",
       "    </tr>\n",
       "    <tr>\n",
       "      <th>1740</th>\n",
       "      <td>61620</td>\n",
       "      <td>10006</td>\n",
       "      <td>8506</td>\n",
       "      <td>New York, NY</td>\n",
       "      <td>2982.0</td>\n",
       "      <td>2997.0</td>\n",
       "      <td>3013.0</td>\n",
       "      <td>3029.0</td>\n",
       "      <td>3045.0</td>\n",
       "      <td>3061.0</td>\n",
       "      <td>...</td>\n",
       "      <td>2968.0</td>\n",
       "      <td>2923.0</td>\n",
       "      <td>2887.0</td>\n",
       "      <td>2850.0</td>\n",
       "      <td>2814.0</td>\n",
       "      <td>2781.0</td>\n",
       "      <td>2747.0</td>\n",
       "      <td>2714.0</td>\n",
       "      <td>2685.0</td>\n",
       "      <td>2656.0</td>\n",
       "    </tr>\n",
       "    <tr>\n",
       "      <th>1741</th>\n",
       "      <td>58623</td>\n",
       "      <td>2109</td>\n",
       "      <td>8792</td>\n",
       "      <td>Boston, MA</td>\n",
       "      <td>NaN</td>\n",
       "      <td>2778.0</td>\n",
       "      <td>NaN</td>\n",
       "      <td>2792.0</td>\n",
       "      <td>2799.0</td>\n",
       "      <td>2805.0</td>\n",
       "      <td>...</td>\n",
       "      <td>2900.0</td>\n",
       "      <td>2879.0</td>\n",
       "      <td>2865.0</td>\n",
       "      <td>2851.0</td>\n",
       "      <td>2837.0</td>\n",
       "      <td>2825.0</td>\n",
       "      <td>2813.0</td>\n",
       "      <td>2802.0</td>\n",
       "      <td>2792.0</td>\n",
       "      <td>2783.0</td>\n",
       "    </tr>\n",
       "    <tr>\n",
       "      <th>1742</th>\n",
       "      <td>84604</td>\n",
       "      <td>60602</td>\n",
       "      <td>10262</td>\n",
       "      <td>Chicago, IL</td>\n",
       "      <td>NaN</td>\n",
       "      <td>NaN</td>\n",
       "      <td>NaN</td>\n",
       "      <td>1787.0</td>\n",
       "      <td>1784.0</td>\n",
       "      <td>NaN</td>\n",
       "      <td>...</td>\n",
       "      <td>1879.0</td>\n",
       "      <td>1870.0</td>\n",
       "      <td>1862.0</td>\n",
       "      <td>NaN</td>\n",
       "      <td>1847.0</td>\n",
       "      <td>1841.0</td>\n",
       "      <td>1834.0</td>\n",
       "      <td>1827.0</td>\n",
       "      <td>1821.0</td>\n",
       "      <td>1815.0</td>\n",
       "    </tr>\n",
       "  </tbody>\n",
       "</table>\n",
       "<p>1743 rows × 94 columns</p>\n",
       "</div>"
      ],
      "text/plain": [
       "      RegionID  RegionName  SizeRank             MsaName  2014-01  2014-02  \\\n",
       "0        61639       10025         1        New York, NY   2889.0   2904.0   \n",
       "1        84654       60657         2         Chicago, IL   1444.0   1449.0   \n",
       "2        61637       10023         3        New York, NY   3014.0   3024.0   \n",
       "3        91982       77494         4         Houston, TX   1454.0   1451.0   \n",
       "4        84616       60614         5         Chicago, IL   1685.0   1690.0   \n",
       "...        ...         ...       ...                 ...      ...      ...   \n",
       "1738     67751       23507      8041  Virginia Beach, VA   1077.0   1075.0   \n",
       "1739     84608       60606      8497         Chicago, IL   1980.0   1979.0   \n",
       "1740     61620       10006      8506        New York, NY   2982.0   2997.0   \n",
       "1741     58623        2109      8792          Boston, MA      NaN   2778.0   \n",
       "1742     84604       60602     10262         Chicago, IL      NaN      NaN   \n",
       "\n",
       "      2014-03  2014-04  2014-05  2014-06  ...  2020-09  2020-10  2020-11  \\\n",
       "0      2919.0   2935.0   2949.0   2964.0  ...   2986.0   2958.0   2939.0   \n",
       "1      1454.0   1460.0   1465.0   1470.0  ...   1645.0   1642.0   1639.0   \n",
       "2      3033.0   3043.0   3052.0   3061.0  ...   2997.0   2968.0   2946.0   \n",
       "3      1448.0   1445.0   1442.0   1439.0  ...   1439.0   1443.0   1449.0   \n",
       "4      1695.0   1700.0   1705.0   1709.0  ...   1924.0   1918.0   1915.0   \n",
       "...       ...      ...      ...      ...  ...      ...      ...      ...   \n",
       "1738      NaN   1070.0   1068.0   1065.0  ...   1182.0   1185.0   1188.0   \n",
       "1739   1978.0   1977.0   1977.0   1977.0  ...   2040.0   2023.0   2013.0   \n",
       "1740   3013.0   3029.0   3045.0   3061.0  ...   2968.0   2923.0   2887.0   \n",
       "1741      NaN   2792.0   2799.0   2805.0  ...   2900.0   2879.0   2865.0   \n",
       "1742      NaN   1787.0   1784.0      NaN  ...   1879.0   1870.0   1862.0   \n",
       "\n",
       "      2020-12  2021-01  2021-02  2021-03  2021-04  2021-05  2021-06  \n",
       "0      2919.0   2900.0   2883.0   2865.0   2848.0   2834.0   2820.0  \n",
       "1      1636.0   1634.0   1631.0   1629.0   1627.0   1625.0   1623.0  \n",
       "2      2924.0   2902.0   2881.0   2861.0   2841.0   2824.0   2807.0  \n",
       "3      1456.0   1462.0   1469.0   1476.0   1483.0   1490.0   1497.0  \n",
       "4      1912.0   1909.0   1906.0   1904.0   1902.0   1900.0   1899.0  \n",
       "...       ...      ...      ...      ...      ...      ...      ...  \n",
       "1738   1190.0   1193.0   1195.0   1198.0   1200.0   1203.0   1205.0  \n",
       "1739   2003.0   1993.0   1984.0   1975.0   1966.0   1959.0   1952.0  \n",
       "1740   2850.0   2814.0   2781.0   2747.0   2714.0   2685.0   2656.0  \n",
       "1741   2851.0   2837.0   2825.0   2813.0   2802.0   2792.0   2783.0  \n",
       "1742      NaN   1847.0   1841.0   1834.0   1827.0   1821.0   1815.0  \n",
       "\n",
       "[1743 rows x 94 columns]"
      ]
     },
     "execution_count": 11,
     "metadata": {},
     "output_type": "execute_result"
    }
   ],
   "source": [
    "# import rent data\n",
    "\n",
    "\n",
    "rent = pd.read_csv(\"Zip_ZORI_AllHomesPlusMultifamily_SSA.csv\")\n",
    "rent"
   ]
  },
  {
   "cell_type": "markdown",
   "id": "c2274040",
   "metadata": {},
   "source": [
    "# Preparing ZHVI Data and Aggregating to the FIPS Level"
   ]
  },
  {
   "cell_type": "code",
   "execution_count": 12,
   "id": "6be103c2",
   "metadata": {
    "ExecuteTime": {
     "end_time": "2021-08-10T04:56:31.334966Z",
     "start_time": "2021-08-10T04:56:31.034173Z"
    }
   },
   "outputs": [],
   "source": [
    "zhvi = zhvi.merge(pop_weights, how = 'left',left_on = 'zipcode',right_on = 'Zip Code ZCTA')\n",
    "zhvi['zhvi_pop_prod'] = zhvi['Census Population 2010']*zhvi['zhvi']"
   ]
  },
  {
   "cell_type": "code",
   "execution_count": 13,
   "id": "a07c3eb9",
   "metadata": {
    "ExecuteTime": {
     "end_time": "2021-08-10T04:56:31.888687Z",
     "start_time": "2021-08-10T04:56:31.338169Z"
    }
   },
   "outputs": [
    {
     "name": "stdout",
     "output_type": "stream",
     "text": [
      "0.05319918337346067\n",
      "0.39723717491406707\n"
     ]
    }
   ],
   "source": [
    "#Filter to dates with well populated ZHVI data and GDP data\n",
    "zhvi = zhvi[zhvi.year > 2000]\n",
    "zhvi = zhvi[zhvi.year < 2020]\n",
    "zhvi['missing'] = zhvi.zhvi.isnull()\n",
    "print(zhvi[zhvi.missing == True]['Census Population 2010'].sum()/zhvi['Census Population 2010'].sum())\n",
    "\n",
    "#make a list of zipcodes with partial data to exclude from the analysis\n",
    "zipmissing = zhvi.groupby('zipcode', as_index = False).missing.mean()\n",
    "print(zipmissing[zipmissing.missing > 0].shape[0] / zipmissing.shape[0])\n",
    "zipmissing = zipmissing[zipmissing.missing>0].zipcode\n",
    "zhvi = zhvi[~zhvi.zipcode.isin(zipmissing)]"
   ]
  },
  {
   "cell_type": "code",
   "execution_count": 14,
   "id": "ac0f425b",
   "metadata": {
    "ExecuteTime": {
     "end_time": "2021-08-10T04:56:31.936868Z",
     "start_time": "2021-08-10T04:56:31.890637Z"
    }
   },
   "outputs": [],
   "source": [
    "#Aggregate ZHVI from the zipcode level up to the FIPS level, weighting by 2010 population\n",
    "zhvi_fips_agg = zhvi.groupby(['fips','year'], as_index = False).agg({'zhvi': 'mean','zhvi_pop_prod': 'sum', 'Census Population 2010': 'sum'})\n",
    "zhvi_fips_agg['zhvi_weighted'] = zhvi_fips_agg['zhvi_pop_prod'] / zhvi_fips_agg['Census Population 2010']\n",
    "zhvi_fips_agg.fips = zhvi_fips_agg.fips.astype(int)\n"
   ]
  },
  {
   "cell_type": "code",
   "execution_count": 15,
   "id": "afa3c76d",
   "metadata": {
    "ExecuteTime": {
     "end_time": "2021-08-10T04:56:31.956625Z",
     "start_time": "2021-08-10T04:56:31.938248Z"
    }
   },
   "outputs": [
    {
     "name": "stdout",
     "output_type": "stream",
     "text": [
      "1\n"
     ]
    }
   ],
   "source": [
    "# population and therefore weighted ZHVI is missing for 1 FIPS -filter to only data that mapped to 2010 population data\n",
    "print(zhvi_fips_agg[zhvi_fips_agg.zhvi_weighted.isnull()].fips.nunique())\n",
    "zhvi_fips_agg.zhvi_weighted.isnull().sum()/zhvi_fips_agg.shape[0]\n",
    "zhvi_fips_agg = zhvi_fips_agg[zhvi_fips_agg.zhvi_weighted.isnull()==False]"
   ]
  },
  {
   "cell_type": "markdown",
   "id": "b7fba330",
   "metadata": {},
   "source": [
    "# Joining ZHVI Data to Other Data Sources"
   ]
  },
  {
   "cell_type": "code",
   "execution_count": 16,
   "id": "29a2e78b",
   "metadata": {
    "ExecuteTime": {
     "end_time": "2021-08-10T04:56:32.057570Z",
     "start_time": "2021-08-10T04:56:31.957775Z"
    }
   },
   "outputs": [
    {
     "name": "stdout",
     "output_type": "stream",
     "text": [
      "0.02125124131082423\n"
     ]
    }
   ],
   "source": [
    "# Merge ZHVI data with GDP data.  2% of FIPS don't have matching GDP data, filter those out\n",
    "df_agg = zhvi_fips_agg.merge(gdp_county, how = 'left', on = ['fips','year'])\n",
    "print(df_agg[\"All industry total\"].isnull().sum()/df_agg.shape[0])\n",
    "df_agg = df_agg[df_agg[\"All industry total\"].isnull()==False]"
   ]
  },
  {
   "cell_type": "code",
   "execution_count": 17,
   "id": "e71301aa",
   "metadata": {
    "ExecuteTime": {
     "end_time": "2021-08-10T04:56:32.138762Z",
     "start_time": "2021-08-10T04:56:32.059277Z"
    }
   },
   "outputs": [
    {
     "name": "stdout",
     "output_type": "stream",
     "text": [
      "0.00020292207792207794\n"
     ]
    }
   ],
   "source": [
    "# Merge ZHVI data with population data\n",
    "df_agg = df_agg.merge(population_w_estimates, how = 'left', on = ['fips','year'])\n",
    "print(df_agg[\"population\"].isnull().sum()/df_agg.shape[0])\n",
    "df_agg = df_agg[~df_agg[\"population\"].isnull()]"
   ]
  },
  {
   "cell_type": "code",
   "execution_count": 18,
   "id": "4ef59b6d",
   "metadata": {
    "ExecuteTime": {
     "end_time": "2021-08-10T04:56:32.180480Z",
     "start_time": "2021-08-10T04:56:32.141190Z"
    }
   },
   "outputs": [
    {
     "data": {
      "text/html": [
       "<div>\n",
       "<style scoped>\n",
       "    .dataframe tbody tr th:only-of-type {\n",
       "        vertical-align: middle;\n",
       "    }\n",
       "\n",
       "    .dataframe tbody tr th {\n",
       "        vertical-align: top;\n",
       "    }\n",
       "\n",
       "    .dataframe thead th {\n",
       "        text-align: right;\n",
       "    }\n",
       "</style>\n",
       "<table border=\"1\" class=\"dataframe\">\n",
       "  <thead>\n",
       "    <tr style=\"text-align: right;\">\n",
       "      <th></th>\n",
       "      <th>fips</th>\n",
       "      <th>year</th>\n",
       "      <th>zhvi</th>\n",
       "      <th>zhvi_pop_prod</th>\n",
       "      <th>Census Population 2010</th>\n",
       "      <th>zhvi_weighted</th>\n",
       "      <th>county</th>\n",
       "      <th>Accommodation and food services</th>\n",
       "      <th>Administrative and support and waste management and remediation services</th>\n",
       "      <th>Arts, entertainment, and recreation</th>\n",
       "      <th>...</th>\n",
       "      <th>Private industries</th>\n",
       "      <th>All industry total</th>\n",
       "      <th>Government and government enterprises</th>\n",
       "      <th>Manufacturing and information</th>\n",
       "      <th>Natural resources and mining</th>\n",
       "      <th>Private goods-producing industries 2/</th>\n",
       "      <th>Private services-providing industries 3/</th>\n",
       "      <th>Trade</th>\n",
       "      <th>Transportation and utilities</th>\n",
       "      <th>population</th>\n",
       "    </tr>\n",
       "  </thead>\n",
       "  <tbody>\n",
       "    <tr>\n",
       "      <th>0</th>\n",
       "      <td>1001</td>\n",
       "      <td>2001</td>\n",
       "      <td>125288.666667</td>\n",
       "      <td>1.145516e+10</td>\n",
       "      <td>108787.0</td>\n",
       "      <td>105298.942429</td>\n",
       "      <td>Autauga, AL</td>\n",
       "      <td>32162.0</td>\n",
       "      <td>NaN</td>\n",
       "      <td>1662.0</td>\n",
       "      <td>...</td>\n",
       "      <td>652410.0</td>\n",
       "      <td>748918.0</td>\n",
       "      <td>96507.0</td>\n",
       "      <td>195774.0</td>\n",
       "      <td>16213.0</td>\n",
       "      <td>276566.0</td>\n",
       "      <td>375844.0</td>\n",
       "      <td>94895.0</td>\n",
       "      <td>32302.0</td>\n",
       "      <td>44781.2</td>\n",
       "    </tr>\n",
       "    <tr>\n",
       "      <th>1</th>\n",
       "      <td>1001</td>\n",
       "      <td>2002</td>\n",
       "      <td>127334.833333</td>\n",
       "      <td>1.162606e+10</td>\n",
       "      <td>108787.0</td>\n",
       "      <td>106869.923686</td>\n",
       "      <td>Autauga, AL</td>\n",
       "      <td>32655.0</td>\n",
       "      <td>NaN</td>\n",
       "      <td>1536.0</td>\n",
       "      <td>...</td>\n",
       "      <td>671240.0</td>\n",
       "      <td>781937.0</td>\n",
       "      <td>110698.0</td>\n",
       "      <td>196590.0</td>\n",
       "      <td>11951.0</td>\n",
       "      <td>245163.0</td>\n",
       "      <td>426077.0</td>\n",
       "      <td>102459.0</td>\n",
       "      <td>55406.0</td>\n",
       "      <td>45891.4</td>\n",
       "    </tr>\n",
       "    <tr>\n",
       "      <th>2</th>\n",
       "      <td>1001</td>\n",
       "      <td>2003</td>\n",
       "      <td>129304.250000</td>\n",
       "      <td>1.196953e+10</td>\n",
       "      <td>108787.0</td>\n",
       "      <td>110027.238972</td>\n",
       "      <td>Autauga, AL</td>\n",
       "      <td>35535.0</td>\n",
       "      <td>NaN</td>\n",
       "      <td>1511.0</td>\n",
       "      <td>...</td>\n",
       "      <td>682843.0</td>\n",
       "      <td>804299.0</td>\n",
       "      <td>121456.0</td>\n",
       "      <td>165736.0</td>\n",
       "      <td>28183.0</td>\n",
       "      <td>227255.0</td>\n",
       "      <td>455589.0</td>\n",
       "      <td>112787.0</td>\n",
       "      <td>61079.0</td>\n",
       "      <td>47001.6</td>\n",
       "    </tr>\n",
       "    <tr>\n",
       "      <th>3</th>\n",
       "      <td>1001</td>\n",
       "      <td>2004</td>\n",
       "      <td>132550.166667</td>\n",
       "      <td>1.228776e+10</td>\n",
       "      <td>108787.0</td>\n",
       "      <td>112952.424159</td>\n",
       "      <td>Autauga, AL</td>\n",
       "      <td>36899.0</td>\n",
       "      <td>NaN</td>\n",
       "      <td>1580.0</td>\n",
       "      <td>...</td>\n",
       "      <td>808170.0</td>\n",
       "      <td>946964.0</td>\n",
       "      <td>138793.0</td>\n",
       "      <td>204527.0</td>\n",
       "      <td>41858.0</td>\n",
       "      <td>283720.0</td>\n",
       "      <td>524450.0</td>\n",
       "      <td>119589.0</td>\n",
       "      <td>95693.0</td>\n",
       "      <td>48111.8</td>\n",
       "    </tr>\n",
       "    <tr>\n",
       "      <th>4</th>\n",
       "      <td>1001</td>\n",
       "      <td>2005</td>\n",
       "      <td>141508.166667</td>\n",
       "      <td>1.296247e+10</td>\n",
       "      <td>108787.0</td>\n",
       "      <td>119154.617252</td>\n",
       "      <td>Autauga, AL</td>\n",
       "      <td>35707.0</td>\n",
       "      <td>NaN</td>\n",
       "      <td>1947.0</td>\n",
       "      <td>...</td>\n",
       "      <td>825221.0</td>\n",
       "      <td>969849.0</td>\n",
       "      <td>144628.0</td>\n",
       "      <td>219287.0</td>\n",
       "      <td>43221.0</td>\n",
       "      <td>296290.0</td>\n",
       "      <td>528930.0</td>\n",
       "      <td>126576.0</td>\n",
       "      <td>83560.0</td>\n",
       "      <td>49222</td>\n",
       "    </tr>\n",
       "  </tbody>\n",
       "</table>\n",
       "<p>5 rows × 42 columns</p>\n",
       "</div>"
      ],
      "text/plain": [
       "   fips  year           zhvi  zhvi_pop_prod  Census Population 2010  \\\n",
       "0  1001  2001  125288.666667   1.145516e+10                108787.0   \n",
       "1  1001  2002  127334.833333   1.162606e+10                108787.0   \n",
       "2  1001  2003  129304.250000   1.196953e+10                108787.0   \n",
       "3  1001  2004  132550.166667   1.228776e+10                108787.0   \n",
       "4  1001  2005  141508.166667   1.296247e+10                108787.0   \n",
       "\n",
       "   zhvi_weighted       county     Accommodation and food services  \\\n",
       "0  105298.942429  Autauga, AL                             32162.0   \n",
       "1  106869.923686  Autauga, AL                             32655.0   \n",
       "2  110027.238972  Autauga, AL                             35535.0   \n",
       "3  112952.424159  Autauga, AL                             36899.0   \n",
       "4  119154.617252  Autauga, AL                             35707.0   \n",
       "\n",
       "      Administrative and support and waste management and remediation services  \\\n",
       "0                                                NaN                             \n",
       "1                                                NaN                             \n",
       "2                                                NaN                             \n",
       "3                                                NaN                             \n",
       "4                                                NaN                             \n",
       "\n",
       "      Arts, entertainment, and recreation  ...   Private industries  \\\n",
       "0                                  1662.0  ...             652410.0   \n",
       "1                                  1536.0  ...             671240.0   \n",
       "2                                  1511.0  ...             682843.0   \n",
       "3                                  1580.0  ...             808170.0   \n",
       "4                                  1947.0  ...             825221.0   \n",
       "\n",
       "   All industry total  Government and government enterprises  \\\n",
       "0            748918.0                                96507.0   \n",
       "1            781937.0                               110698.0   \n",
       "2            804299.0                               121456.0   \n",
       "3            946964.0                               138793.0   \n",
       "4            969849.0                               144628.0   \n",
       "\n",
       "   Manufacturing and information  Natural resources and mining  \\\n",
       "0                       195774.0                       16213.0   \n",
       "1                       196590.0                       11951.0   \n",
       "2                       165736.0                       28183.0   \n",
       "3                       204527.0                       41858.0   \n",
       "4                       219287.0                       43221.0   \n",
       "\n",
       "   Private goods-producing industries 2/  \\\n",
       "0                               276566.0   \n",
       "1                               245163.0   \n",
       "2                               227255.0   \n",
       "3                               283720.0   \n",
       "4                               296290.0   \n",
       "\n",
       "   Private services-providing industries 3/     Trade  \\\n",
       "0                                  375844.0   94895.0   \n",
       "1                                  426077.0  102459.0   \n",
       "2                                  455589.0  112787.0   \n",
       "3                                  524450.0  119589.0   \n",
       "4                                  528930.0  126576.0   \n",
       "\n",
       "   Transportation and utilities  population  \n",
       "0                       32302.0     44781.2  \n",
       "1                       55406.0     45891.4  \n",
       "2                       61079.0     47001.6  \n",
       "3                       95693.0     48111.8  \n",
       "4                       83560.0       49222  \n",
       "\n",
       "[5 rows x 42 columns]"
      ]
     },
     "execution_count": 18,
     "metadata": {},
     "output_type": "execute_result"
    }
   ],
   "source": [
    "df_agg.head()"
   ]
  },
  {
   "cell_type": "code",
   "execution_count": null,
   "id": "daccce1b",
   "metadata": {},
   "outputs": [],
   "source": []
  },
  {
   "cell_type": "code",
   "execution_count": null,
   "id": "205a5e3b",
   "metadata": {},
   "outputs": [],
   "source": []
  },
  {
   "cell_type": "code",
   "execution_count": null,
   "id": "1192c3a2",
   "metadata": {},
   "outputs": [],
   "source": []
  },
  {
   "cell_type": "code",
   "execution_count": null,
   "id": "11837615",
   "metadata": {},
   "outputs": [],
   "source": []
  },
  {
   "cell_type": "code",
   "execution_count": null,
   "id": "156f5a5a",
   "metadata": {},
   "outputs": [],
   "source": []
  },
  {
   "cell_type": "markdown",
   "id": "b879bd4c",
   "metadata": {},
   "source": [
    "# Preparing data for export"
   ]
  },
  {
   "cell_type": "code",
   "execution_count": 19,
   "id": "df1a197c",
   "metadata": {
    "ExecuteTime": {
     "end_time": "2021-08-10T04:56:32.278026Z",
     "start_time": "2021-08-10T04:56:32.181929Z"
    }
   },
   "outputs": [],
   "source": [
    "# make a function to prepare the target feature desired (ie appreciation)\n",
    "def target_prep(timeseries_df, start_year, lookforward, target_variable):\n",
    "    baseline_df = timeseries_df[timeseries_df.year == start_year]\n",
    "    lookforward_df = timeseries_df[timeseries_df.year == start_year + lookforward]\n",
    "    df_out = baseline_df[[\"fips\", target_variable]]\n",
    "    df_out = df_out.merge(lookforward_df[['fips',target_variable]], how = 'left', on = 'fips')\n",
    "    df_out[target_variable] = df_out.iloc[:, [2]].values/df_out.iloc[:, [1]].values\n",
    "    df_out = df_out[[\"fips\", target_variable]]\n",
    "    df_out.columns = ['fips', target_variable + '_growth']\n",
    "    return df_out"
   ]
  },
  {
   "cell_type": "code",
   "execution_count": 20,
   "id": "2b1929d1",
   "metadata": {
    "ExecuteTime": {
     "end_time": "2021-08-10T04:56:32.340356Z",
     "start_time": "2021-08-10T04:56:32.279506Z"
    }
   },
   "outputs": [],
   "source": [
    "#function to calculate growth rate features over X year lookback\n",
    "\n",
    "def growth_feature_prep(timeseries_df, start_year, look_back, cols_to_adj):\n",
    "    baseline_df = timeseries_df[timeseries_df.year == start_year]\n",
    "    lookback_df = timeseries_df[timeseries_df.year == start_year - look_back]\n",
    "\n",
    "    df_out = baseline_df[[\"fips\"]]\n",
    "    \n",
    "    for col in cols_to_adj:\n",
    "        temp = baseline_df[['fips',col]]\n",
    "        temp = temp.merge(lookback_df[['fips',col]], how = 'left', on = 'fips')\n",
    "        temp[col] = temp.iloc[:, [1]].values/temp.iloc[:, [2]].values\n",
    "        temp = temp[['fips',col]]\n",
    "        temp.columns = ['fips', col + '_growth']\n",
    "        df_out = df_out.merge(temp, how = 'left', on= 'fips')        \n",
    "    return df_out\n"
   ]
  },
  {
   "cell_type": "code",
   "execution_count": 21,
   "id": "9e5fb6be",
   "metadata": {
    "ExecuteTime": {
     "end_time": "2021-08-10T04:56:32.395892Z",
     "start_time": "2021-08-10T04:56:32.341954Z"
    }
   },
   "outputs": [],
   "source": [
    "cols_to_adj = [#'   Accommodation and food services',\n",
    "               #'   Administrative and support and waste management and remediation services',\n",
    "               #'   Arts, entertainment, and recreation',\n",
    "               #'   Durable goods manufacturing', \n",
    "               #'   Educational services',\n",
    "               #'   Finance and insurance', \n",
    "               #'   Health care and social assistance',\n",
    "               #'   Management of companies and enterprises',\n",
    "               #'   Nondurable goods manufacturing',\n",
    "               #'   Professional, scientific, and technical services',\n",
    "               #'   Real estate and rental and leasing',\n",
    "               #'  Agriculture, forestry, fishing and hunting',\n",
    "               #'  Arts, entertainment, recreation, accommodation, and food services',\n",
    "               '  Construction',\n",
    "               #'  Educational services, health care, and social assistance',\n",
    "               '  Finance, insurance, real estate, rental, and leasing',\n",
    "               #'  Information', \n",
    "               '  Manufacturing',\n",
    "               '  Mining, quarrying, and oil and gas extraction',\n",
    "               #'  Other services (except government and government enterprises)',\n",
    "               #'  Professional and business services', \n",
    "               '  Retail trade',\n",
    "               #'  Transportation and warehousing', \n",
    "               #'  Utilities', \n",
    "               #'  Wholesale trade',\n",
    "               ' Private industries', \n",
    "               'All industry total',\n",
    "               'Government and government enterprises',\n",
    "               #'Manufacturing and information', \n",
    "               #'Natural resources and mining',\n",
    "               #'Private goods-producing industries 2/',\n",
    "               #'Private services-providing industries 3/', \n",
    "               #'Trade',\n",
    "               #'Transportation and utilities',\n",
    "               'population'\n",
    "]"
   ]
  },
  {
   "cell_type": "code",
   "execution_count": 22,
   "id": "5af0b980",
   "metadata": {
    "ExecuteTime": {
     "end_time": "2021-08-10T04:56:32.488213Z",
     "start_time": "2021-08-10T04:56:32.397265Z"
    }
   },
   "outputs": [],
   "source": [
    "fips_map = gdp_county.groupby(['fips','county'], as_index = False).year.count()\n",
    "fips_map = fips_map[['fips','county']]"
   ]
  },
  {
   "cell_type": "code",
   "execution_count": 23,
   "id": "0c53fb9f",
   "metadata": {
    "ExecuteTime": {
     "end_time": "2021-08-10T04:56:32.568318Z",
     "start_time": "2021-08-10T04:56:32.490812Z"
    }
   },
   "outputs": [
    {
     "data": {
      "text/plain": [
       "Index(['fips', 'year', 'zhvi', 'zhvi_pop_prod', 'Census Population 2010',\n",
       "       'zhvi_weighted', 'county', '   Accommodation and food services',\n",
       "       '   Administrative and support and waste management and remediation services',\n",
       "       '   Arts, entertainment, and recreation',\n",
       "       '   Durable goods manufacturing', '   Educational services',\n",
       "       '   Finance and insurance', '   Health care and social assistance',\n",
       "       '   Management of companies and enterprises',\n",
       "       '   Nondurable goods manufacturing',\n",
       "       '   Professional, scientific, and technical services',\n",
       "       '   Real estate and rental and leasing',\n",
       "       '  Agriculture, forestry, fishing and hunting',\n",
       "       '  Arts, entertainment, recreation, accommodation, and food services',\n",
       "       '  Construction',\n",
       "       '  Educational services, health care, and social assistance',\n",
       "       '  Finance, insurance, real estate, rental, and leasing',\n",
       "       '  Information', '  Manufacturing',\n",
       "       '  Mining, quarrying, and oil and gas extraction',\n",
       "       '  Other services (except government and government enterprises)',\n",
       "       '  Professional and business services', '  Retail trade',\n",
       "       '  Transportation and warehousing', '  Utilities', '  Wholesale trade',\n",
       "       ' Private industries', 'All industry total',\n",
       "       'Government and government enterprises',\n",
       "       'Manufacturing and information', 'Natural resources and mining',\n",
       "       'Private goods-producing industries 2/',\n",
       "       'Private services-providing industries 3/', 'Trade',\n",
       "       'Transportation and utilities', 'population'],\n",
       "      dtype='object')"
      ]
     },
     "execution_count": 23,
     "metadata": {},
     "output_type": "execute_result"
    }
   ],
   "source": [
    "df_agg.columns"
   ]
  },
  {
   "cell_type": "code",
   "execution_count": 24,
   "id": "89728a44",
   "metadata": {
    "ExecuteTime": {
     "end_time": "2021-08-10T04:56:32.624541Z",
     "start_time": "2021-08-10T04:56:32.569743Z"
    }
   },
   "outputs": [],
   "source": [
    "baseline_features = ['fips'\n",
    "                    ,'Census Population 2010',\n",
    "                     'zhvi_weighted',\n",
    "                    #'   Accommodation and food services',\n",
    "                    #'   Administrative and support and waste management and remediation services',\n",
    "                    #'   Arts, entertainment, and recreation',\n",
    "                    #'   Durable goods manufacturing', \n",
    "                    #'   Educational services',\n",
    "                    #'   Finance and insurance', \n",
    "                    #'   Health care and social assistance',\n",
    "                    #'   Management of companies and enterprises',\n",
    "                    #'   Nondurable goods manufacturing',\n",
    "                    #'   Professional, scientific, and technical services',\n",
    "                    #'   Real estate and rental and leasing',\n",
    "                    #'  Agriculture, forestry, fishing and hunting',\n",
    "                    #'  Arts, entertainment, recreation, accommodation, and food services',\n",
    "                    #'  Construction',\n",
    "                    #'  Educational services, health care, and social assistance',\n",
    "                    #'  Finance, insurance, real estate, rental, and leasing',\n",
    "                    #'  Information', \n",
    "                    #'  Manufacturing',\n",
    "                    #'  Mining, quarrying, and oil and gas extraction',\n",
    "                    #'  Other services (except government and government enterprises)',\n",
    "                    #'  Professional and business services', \n",
    "                    #'  Retail trade',\n",
    "                    #'  Transportation and warehousing', \n",
    "                    #'  Utilities', \n",
    "                    #'  Wholesale trade',\n",
    "                    ' Private industries', \n",
    "                    'All industry total',\n",
    "                    'Government and government enterprises',\n",
    "                    #'Manufacturing and information', \n",
    "                    #'Natural resources and mining',\n",
    "                    #'Private goods-producing industries 2/',\n",
    "                    #'Private services-providing industries 3/', \n",
    "                    #'Trade',\n",
    "                     #'Transportation and utilities',\n",
    "                     'population']"
   ]
  },
  {
   "cell_type": "code",
   "execution_count": 25,
   "id": "0e5ef7bf",
   "metadata": {
    "ExecuteTime": {
     "end_time": "2021-08-10T04:56:32.902304Z",
     "start_time": "2021-08-10T04:56:32.625886Z"
    }
   },
   "outputs": [
    {
     "name": "stderr",
     "output_type": "stream",
     "text": [
      "/code/venvs/venv/lib/python3.6/site-packages/ipykernel_launcher.py:12: RuntimeWarning: divide by zero encountered in true_divide\n",
      "  if sys.path[0] == '':\n",
      "/code/venvs/venv/lib/python3.6/site-packages/ipykernel_launcher.py:12: RuntimeWarning: invalid value encountered in true_divide\n",
      "  if sys.path[0] == '':\n"
     ]
    }
   ],
   "source": [
    "start_year = 2004\n",
    "lookforward = 3\n",
    "look_back = 3\n",
    "\n",
    "\n",
    "df_target = target_prep(df_agg, start_year = start_year, lookforward = lookforward, target_variable = 'zhvi_weighted')\n",
    "df_growth_features = growth_feature_prep(df_agg, start_year = start_year, look_back = look_back, cols_to_adj = cols_to_adj)\n",
    "baseline_df = df_agg[df_agg.year == start_year]\n",
    "df = df_target.merge(df_growth_features, how = 'left', on = 'fips')\n",
    "df = df.merge(fips_map, how = 'left',on = 'fips')\n",
    "df = df.merge(baseline_df[baseline_features], how = 'left',on = 'fips')\n",
    "\n",
    "df_train_test = df\n",
    "\n",
    "df_train_test.to_csv('df_train_test.csv', index = False)"
   ]
  },
  {
   "cell_type": "code",
   "execution_count": 26,
   "id": "c7c607bd",
   "metadata": {
    "ExecuteTime": {
     "end_time": "2021-08-10T04:56:33.124223Z",
     "start_time": "2021-08-10T04:56:32.903599Z"
    }
   },
   "outputs": [
    {
     "name": "stderr",
     "output_type": "stream",
     "text": [
      "/code/venvs/venv/lib/python3.6/site-packages/ipykernel_launcher.py:12: RuntimeWarning: divide by zero encountered in true_divide\n",
      "  if sys.path[0] == '':\n",
      "/code/venvs/venv/lib/python3.6/site-packages/ipykernel_launcher.py:12: RuntimeWarning: invalid value encountered in true_divide\n",
      "  if sys.path[0] == '':\n"
     ]
    }
   ],
   "source": [
    "start_year = 2016\n",
    "lookforward = 3\n",
    "look_back = 3\n",
    "\n",
    "\n",
    "df_target = target_prep(df_agg, start_year = start_year, lookforward = lookforward, target_variable = 'zhvi_weighted')\n",
    "df_growth_features = growth_feature_prep(df_agg, start_year = start_year, look_back = look_back, cols_to_adj = cols_to_adj)\n",
    "baseline_df = df_agg[df_agg.year == start_year]\n",
    "df = df_target.merge(df_growth_features, how = 'left', on = 'fips')\n",
    "df = df.merge(fips_map, how = 'left',on = 'fips')\n",
    "df = df.merge(baseline_df[baseline_features], how = 'left',on = 'fips')\n",
    "\n",
    "df_val = df\n",
    "\n",
    "df_val.to_csv('df_validation.csv', index = False)"
   ]
  },
  {
   "cell_type": "code",
   "execution_count": 27,
   "id": "a6edacc6",
   "metadata": {
    "ExecuteTime": {
     "end_time": "2021-08-10T04:56:33.138529Z",
     "start_time": "2021-08-10T04:56:33.125513Z"
    }
   },
   "outputs": [
    {
     "data": {
      "text/html": [
       "<div>\n",
       "<style scoped>\n",
       "    .dataframe tbody tr th:only-of-type {\n",
       "        vertical-align: middle;\n",
       "    }\n",
       "\n",
       "    .dataframe tbody tr th {\n",
       "        vertical-align: top;\n",
       "    }\n",
       "\n",
       "    .dataframe thead th {\n",
       "        text-align: right;\n",
       "    }\n",
       "</style>\n",
       "<table border=\"1\" class=\"dataframe\">\n",
       "  <thead>\n",
       "    <tr style=\"text-align: right;\">\n",
       "      <th></th>\n",
       "      <th>column_name</th>\n",
       "      <th>percent_missing</th>\n",
       "    </tr>\n",
       "  </thead>\n",
       "  <tbody>\n",
       "    <tr>\n",
       "      <th>fips</th>\n",
       "      <td>fips</td>\n",
       "      <td>0.000000</td>\n",
       "    </tr>\n",
       "    <tr>\n",
       "      <th>All industry total</th>\n",
       "      <td>All industry total</td>\n",
       "      <td>0.000000</td>\n",
       "    </tr>\n",
       "    <tr>\n",
       "      <th>Private industries</th>\n",
       "      <td>Private industries</td>\n",
       "      <td>0.000000</td>\n",
       "    </tr>\n",
       "    <tr>\n",
       "      <th>zhvi_weighted</th>\n",
       "      <td>zhvi_weighted</td>\n",
       "      <td>0.000000</td>\n",
       "    </tr>\n",
       "    <tr>\n",
       "      <th>Census Population 2010</th>\n",
       "      <td>Census Population 2010</td>\n",
       "      <td>0.000000</td>\n",
       "    </tr>\n",
       "    <tr>\n",
       "      <th>county</th>\n",
       "      <td>county</td>\n",
       "      <td>0.000000</td>\n",
       "    </tr>\n",
       "    <tr>\n",
       "      <th>population_growth</th>\n",
       "      <td>population_growth</td>\n",
       "      <td>0.000000</td>\n",
       "    </tr>\n",
       "    <tr>\n",
       "      <th>Government and government enterprises_growth</th>\n",
       "      <td>Government and government enterprises_growth</td>\n",
       "      <td>0.000000</td>\n",
       "    </tr>\n",
       "    <tr>\n",
       "      <th>All industry total_growth</th>\n",
       "      <td>All industry total_growth</td>\n",
       "      <td>0.000000</td>\n",
       "    </tr>\n",
       "    <tr>\n",
       "      <th>Private industries_growth</th>\n",
       "      <td>Private industries_growth</td>\n",
       "      <td>0.000000</td>\n",
       "    </tr>\n",
       "    <tr>\n",
       "      <th>zhvi_weighted_growth</th>\n",
       "      <td>zhvi_weighted_growth</td>\n",
       "      <td>0.000000</td>\n",
       "    </tr>\n",
       "    <tr>\n",
       "      <th>Government and government enterprises</th>\n",
       "      <td>Government and government enterprises</td>\n",
       "      <td>0.000000</td>\n",
       "    </tr>\n",
       "    <tr>\n",
       "      <th>population</th>\n",
       "      <td>population</td>\n",
       "      <td>0.000000</td>\n",
       "    </tr>\n",
       "    <tr>\n",
       "      <th>Finance, insurance, real estate, rental, and leasing_growth</th>\n",
       "      <td>Finance, insurance, real estate, rental, and...</td>\n",
       "      <td>0.096386</td>\n",
       "    </tr>\n",
       "    <tr>\n",
       "      <th>Retail trade_growth</th>\n",
       "      <td>Retail trade_growth</td>\n",
       "      <td>1.831325</td>\n",
       "    </tr>\n",
       "    <tr>\n",
       "      <th>Manufacturing_growth</th>\n",
       "      <td>Manufacturing_growth</td>\n",
       "      <td>7.084337</td>\n",
       "    </tr>\n",
       "    <tr>\n",
       "      <th>Construction_growth</th>\n",
       "      <td>Construction_growth</td>\n",
       "      <td>8.385542</td>\n",
       "    </tr>\n",
       "    <tr>\n",
       "      <th>Mining, quarrying, and oil and gas extraction_growth</th>\n",
       "      <td>Mining, quarrying, and oil and gas extractio...</td>\n",
       "      <td>16.915663</td>\n",
       "    </tr>\n",
       "  </tbody>\n",
       "</table>\n",
       "</div>"
      ],
      "text/plain": [
       "                                                                                          column_name  \\\n",
       "fips                                                                                             fips   \n",
       "All industry total                                                                 All industry total   \n",
       " Private industries                                                                Private industries   \n",
       "zhvi_weighted                                                                           zhvi_weighted   \n",
       "Census Population 2010                                                         Census Population 2010   \n",
       "county                                                                                         county   \n",
       "population_growth                                                                   population_growth   \n",
       "Government and government enterprises_growth             Government and government enterprises_growth   \n",
       "All industry total_growth                                                   All industry total_growth   \n",
       " Private industries_growth                                                  Private industries_growth   \n",
       "zhvi_weighted_growth                                                             zhvi_weighted_growth   \n",
       "Government and government enterprises                           Government and government enterprises   \n",
       "population                                                                                 population   \n",
       "  Finance, insurance, real estate, rental, and ...    Finance, insurance, real estate, rental, and...   \n",
       "  Retail trade_growth                                                             Retail trade_growth   \n",
       "  Manufacturing_growth                                                           Manufacturing_growth   \n",
       "  Construction_growth                                                             Construction_growth   \n",
       "  Mining, quarrying, and oil and gas extraction...    Mining, quarrying, and oil and gas extractio...   \n",
       "\n",
       "                                                    percent_missing  \n",
       "fips                                                       0.000000  \n",
       "All industry total                                         0.000000  \n",
       " Private industries                                        0.000000  \n",
       "zhvi_weighted                                              0.000000  \n",
       "Census Population 2010                                     0.000000  \n",
       "county                                                     0.000000  \n",
       "population_growth                                          0.000000  \n",
       "Government and government enterprises_growth               0.000000  \n",
       "All industry total_growth                                  0.000000  \n",
       " Private industries_growth                                 0.000000  \n",
       "zhvi_weighted_growth                                       0.000000  \n",
       "Government and government enterprises                      0.000000  \n",
       "population                                                 0.000000  \n",
       "  Finance, insurance, real estate, rental, and ...         0.096386  \n",
       "  Retail trade_growth                                      1.831325  \n",
       "  Manufacturing_growth                                     7.084337  \n",
       "  Construction_growth                                      8.385542  \n",
       "  Mining, quarrying, and oil and gas extraction...        16.915663  "
      ]
     },
     "execution_count": 27,
     "metadata": {},
     "output_type": "execute_result"
    }
   ],
   "source": [
    "percent_missing = df.isnull().sum() * 100 / len(df)\n",
    "missing_value_df = pd.DataFrame({'column_name': df.columns,\n",
    "                                 'percent_missing': percent_missing})\n",
    "missing_value_df.sort_values('percent_missing', inplace=True)\n",
    "missing_value_df.head(50)"
   ]
  },
  {
   "cell_type": "code",
   "execution_count": 28,
   "id": "3581eb96",
   "metadata": {
    "ExecuteTime": {
     "end_time": "2021-08-10T04:56:33.526619Z",
     "start_time": "2021-08-10T04:56:33.139760Z"
    }
   },
   "outputs": [
    {
     "data": {
      "image/png": "[encoded data removed]",
      "text/plain": [
       "<Figure size 432x288 with 1 Axes>"
      ]
     },
     "metadata": {
      "needs_background": "light"
     },
     "output_type": "display_data"
    }
   ],
   "source": [
    "ax1 = df.plot.scatter(x='All industry total',\n",
    "                      y='zhvi_weighted_growth')\n",
    "                     #s='Census Population 2010')"
   ]
  },
  {
   "cell_type": "code",
   "execution_count": 29,
   "id": "5333eea7",
   "metadata": {
    "ExecuteTime": {
     "end_time": "2021-08-10T04:56:34.234442Z",
     "start_time": "2021-08-10T04:56:33.527930Z"
    }
   },
   "outputs": [
    {
     "data": {
      "text/plain": [
       "<AxesSubplot:xlabel='All industry total_growth', ylabel='zhvi_weighted_growth'>"
      ]
     },
     "execution_count": 29,
     "metadata": {},
     "output_type": "execute_result"
    },
    {
     "data": {
      "image/png": "[encoded data removed]",
      "text/plain": [
       "<Figure size 432x288 with 1 Axes>"
      ]
     },
     "metadata": {
      "needs_background": "light"
     },
     "output_type": "display_data"
    }
   ],
   "source": [
    "import seaborn as sns\n",
    "\n",
    "df_trunc = df[(df[\"All industry total_growth\"] > 0.1)&(df[\"All industry total_growth\"] < 3)&(df[\"zhvi_weighted_growth\"] > 0.1)&(df[\"zhvi_weighted_growth\"] < 3)]\n",
    "\n",
    "sns.regplot(x=df_trunc[\"All industry total_growth\"], y=df_trunc[\"zhvi_weighted_growth\"])\n"
   ]
  },
  {
   "cell_type": "code",
   "execution_count": 30,
   "id": "ae26228f",
   "metadata": {
    "ExecuteTime": {
     "end_time": "2021-08-10T04:56:34.238659Z",
     "start_time": "2021-08-10T04:56:34.235695Z"
    }
   },
   "outputs": [
    {
     "data": {
      "text/plain": [
       "(2075, 18)"
      ]
     },
     "execution_count": 30,
     "metadata": {},
     "output_type": "execute_result"
    }
   ],
   "source": [
    "df.shape"
   ]
  },
  {
   "cell_type": "code",
   "execution_count": null,
   "id": "96b93b73",
   "metadata": {},
   "outputs": [],
   "source": []
  },
  {
   "cell_type": "code",
   "execution_count": 31,
   "id": "8efd094f",
   "metadata": {
    "ExecuteTime": {
     "end_time": "2021-08-10T04:56:34.304760Z",
     "start_time": "2021-08-10T04:56:34.239741Z"
    }
   },
   "outputs": [
    {
     "ename": "SyntaxError",
     "evalue": "invalid syntax (<ipython-input-31-6a268ef8a15a>, line 1)",
     "output_type": "error",
     "traceback": [
      "\u001b[0;36m  File \u001b[0;32m\"<ipython-input-31-6a268ef8a15a>\"\u001b[0;36m, line \u001b[0;32m1\u001b[0m\n\u001b[0;31m    val_df =\u001b[0m\n\u001b[0m             ^\u001b[0m\n\u001b[0;31mSyntaxError\u001b[0m\u001b[0;31m:\u001b[0m invalid syntax\n"
     ]
    }
   ],
   "source": [
    "val_df = "
   ]
  }
 ],
 "metadata": {
  "kernelspec": {
   "display_name": "Python 3",
   "language": "python",
   "name": "python3"
  },
  "language_info": {
   "codemirror_mode": {
    "name": "ipython",
    "version": 3
   },
   "file_extension": ".py",
   "mimetype": "text/x-python",
   "name": "python",
   "nbconvert_exporter": "python",
   "pygments_lexer": "ipython3",
   "version": "3.6.9"
  }
 },
 "nbformat": 4,
 "nbformat_minor": 5
}
