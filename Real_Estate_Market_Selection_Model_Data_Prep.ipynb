{
 "cells": [
  {
   "cell_type": "markdown",
   "id": "24522e86",
   "metadata": {},
   "source": [
    "# Real Estate Market Selection Model"
   ]
  },
  {
   "cell_type": "markdown",
   "id": "73166ed1",
   "metadata": {},
   "source": [
    "<b> Goal of Model and Analysis </b>\n",
    "    \n",
    "The goal of this analysis is to help inform which city Mehrmah and I decide to buy an investment property in.  The output of the analysis will be a ranked list of cities with forecasted 5YR and 10YR appreciation values.\n",
    "\n",
    "In order to reduce the risk of us losing money, a strict criteria for our next investment property is that it will be cashflow neutral or better, however we recognize that appreciation will likely be the primary way to get strong returns.  Therefore, our objective function is to maximize appreciation under the constraint that the property cashflows with a 20% downpayment. \n",
    "\n",
    "Given a property’s ability to cashflow requires analysis on the individual property, we will first do the analysis to determine which markets to look at individual properties in.  \n"
   ]
  },
  {
   "cell_type": "code",
   "execution_count": 1,
   "id": "b6a5e26c",
   "metadata": {
    "ExecuteTime": {
     "end_time": "2021-08-11T05:33:01.581680Z",
     "start_time": "2021-08-11T05:33:01.313664Z"
    }
   },
   "outputs": [],
   "source": [
    "import pandas as pd"
   ]
  },
  {
   "cell_type": "markdown",
   "id": "523f5f0d",
   "metadata": {
    "ExecuteTime": {
     "end_time": "2021-08-10T02:27:07.196992Z",
     "start_time": "2021-08-10T02:27:07.194500Z"
    }
   },
   "source": [
    "# Data Imports and Reformating"
   ]
  },
  {
   "cell_type": "code",
   "execution_count": 2,
   "id": "f9305484",
   "metadata": {
    "ExecuteTime": {
     "end_time": "2021-08-11T05:33:01.630660Z",
     "start_time": "2021-08-11T05:33:01.583258Z"
    }
   },
   "outputs": [],
   "source": [
    "# import zipcode to FIPS mapping\n",
    "zip_mapping = pd.read_csv('ZIP-COUNTY-FIPS_2018-03.csv')\n",
    "zip_mapping.rename(columns={\"ZIP\": \"zipcode\", \"STCOUNTYFP\": \"fips\", \"CITY\": \"city_mapped\", \"STATE\": \"state_mapped\", \"COUNTYNAME\":\"county_mapped\", \"CLASSFP\":\"classfp\"}, inplace = True)"
   ]
  },
  {
   "cell_type": "code",
   "execution_count": 3,
   "id": "33047e07",
   "metadata": {
    "ExecuteTime": {
     "end_time": "2021-08-11T05:33:01.642680Z",
     "start_time": "2021-08-11T05:33:01.632274Z"
    }
   },
   "outputs": [],
   "source": [
    "# import 2010 population by zipcode data for ZHVI weighting\n",
    "pop_weights = pd.read_csv('Population/Census+Population+By+Zipcode+(ZCTA).csv')"
   ]
  },
  {
   "cell_type": "code",
   "execution_count": 4,
   "id": "e75e850c",
   "metadata": {
    "ExecuteTime": {
     "end_time": "2021-08-11T05:33:09.525351Z",
     "start_time": "2021-08-11T05:33:01.644235Z"
    }
   },
   "outputs": [],
   "source": [
    "# import and reformat ZHVI data\n",
    "zhvi = pd.read_csv('ZHVI/Zip_zhvi_uc_sfrcondo_tier_0.33_0.67_sm_sa_month.csv')\n",
    "zhvi = pd.melt(zhvi, id_vars=['RegionID','SizeRank','RegionName','RegionType','StateName','State','City','Metro','CountyName'])\n",
    "zhvi.rename(columns={\"RegionName\": \"zipcode\", \"StateName\": \"state\", \"Metro\": \"msa\", \"CountyName\": \"county\", \"variable\":\"month\", \"value\":\"zhvi\"}, inplace = True)\n",
    "zhvi['month'] = pd.to_datetime(zhvi.month, infer_datetime_format=True)\n",
    "zhvi['year'] = zhvi.month.dt.year\n",
    "zhvi = zhvi[[\"zipcode\",\"state\",\"msa\",\"county\",\"year\",\"zhvi\"]].loc[zhvi.month.dt.month == 1]\n",
    "zhvi = zhvi.merge(zip_mapping, how = 'left',left_on = 'zipcode',right_on = 'zipcode')\n"
   ]
  },
  {
   "cell_type": "code",
   "execution_count": 5,
   "id": "edc10af7",
   "metadata": {
    "ExecuteTime": {
     "end_time": "2021-08-11T05:33:17.126182Z",
     "start_time": "2021-08-11T05:33:09.527405Z"
    }
   },
   "outputs": [
    {
     "name": "stderr",
     "output_type": "stream",
     "text": [
      "/code/venvs/venv/lib/python3.6/site-packages/ipykernel_launcher.py:2: ParserWarning: Falling back to the 'python' engine because the 'c' engine does not support skipfooter; you can avoid this warning by specifying engine='python'.\n",
      "  \n"
     ]
    }
   ],
   "source": [
    "# import and reformat GDP data\n",
    "gdp_county = pd.read_csv('GDP/CAGDP2__ALL_AREAS_2001_2019.csv', skipfooter = 4)\n",
    "gdp_county.GeoFIPS = gdp_county.GeoFIPS.str.replace('\"', '')\n",
    "gdp_county = pd.melt(gdp_county, id_vars=['GeoFIPS','GeoName','Region','TableName','LineCode','IndustryClassification','Description','Unit'])\n",
    "gdp_county.rename(columns={\"GeoFIPS\": \"fips\", \"GeoName\": \"county\", \"Description\": \"metric\", \"variable\": \"year\", \"value\":\"gdp\"}, inplace = True)\n",
    "gdp_county = gdp_county[[\"fips\",\"county\",\"metric\",\"year\",\"gdp\"]]\n",
    "gdp_county = gdp_county[gdp_county.gdp.str.isnumeric() == True]  #dropping empty values\n",
    "gdp_county.gdp = pd.to_numeric(gdp_county.gdp)\n",
    "gdp_county = gdp_county.pivot_table(index=[\"fips\",\"county\",\"year\"], columns=\"metric\")['gdp'].reset_index()\n",
    "gdp_county.columns.name = None\n",
    "gdp_county.fips = gdp_county.fips.str.replace(' ','')\n",
    "gdp_county.fips = pd.to_numeric(gdp_county.fips)\n",
    "gdp_county.year = gdp_county.year.astype(int)\n"
   ]
  },
  {
   "cell_type": "code",
   "execution_count": 6,
   "id": "88812809",
   "metadata": {
    "ExecuteTime": {
     "end_time": "2021-08-11T05:33:17.145656Z",
     "start_time": "2021-08-11T05:33:17.127971Z"
    },
    "scrolled": true
   },
   "outputs": [],
   "source": [
    "# import and reformat 2000 Population data\n",
    "pop_2000 = pd.read_csv('Population/DECENNIALSF12000.P001_data_with_overlays_2021-07-23T112021.csv')\n",
    "\n",
    "#all FIPS start with 0500000US in this dataset.  cutting that part out\n",
    "pop_2000.GEO_ID = pop_2000.GEO_ID.str.replace('0500000US','')\n",
    "pop_2000 = pop_2000[~(pop_2000.GEO_ID == 'id')] #filtering out header row\n",
    "pop_2000.GEO_ID = pd.to_numeric(pop_2000.GEO_ID)\n",
    "pop_2000[\"year\"] = 2000\n",
    "pop_2000.rename(columns={\"GEO_ID\": \"fips\", \"NAME\": \"county\", \"P001001\": \"population\"}, inplace = True)\n"
   ]
  },
  {
   "cell_type": "code",
   "execution_count": 7,
   "id": "125a2908",
   "metadata": {
    "ExecuteTime": {
     "end_time": "2021-08-11T05:33:17.305023Z",
     "start_time": "2021-08-11T05:33:17.146882Z"
    }
   },
   "outputs": [],
   "source": [
    "# import and reformat 2010 to 2020 Population data\n",
    "pop_2010_2020 = pd.read_csv('Population/PEPPOP2019.PEPANNRES_data_with_overlays_2021-08-08T193054.csv')\n",
    "pop_2010_2020.head()\n",
    "pop_2010_2020 = pop_2010_2020[~pop_2010_2020.DATE_CODE.str.contains('Census')]\n",
    "pop_2010_2020 = pop_2010_2020[~pop_2010_2020.DATE_CODE.str.contains('base')]\n",
    "pop_2010_2020.DATE_CODE = pop_2010_2020.DATE_CODE.str.slice(stop = 8)\n",
    "pop_2010_2020.DATE_CODE = pop_2010_2020.DATE_CODE.str.slice(start = 4)\n",
    "pop_2010_2020 = pop_2010_2020[~(pop_2010_2020.GEO_ID == 'id')] #filtering out header row\n",
    "pop_2010_2020.GEO_ID = pop_2010_2020.GEO_ID.str.replace('0500000US','')\n",
    "pop_2010_2020.rename(columns={\"GEO_ID\": \"fips\", \"NAME\": \"county\",\"DATE_CODE\": \"year\", \"POP\": \"population\"}, inplace = True)\n",
    "pop_2010_2020.fips = pd.to_numeric(pop_2010_2020.fips)\n",
    "pop_2010_2020.year = pd.to_numeric(pop_2010_2020.year)\n",
    "pop_2010_2020.population = pd.to_numeric(pop_2010_2020.population)\n"
   ]
  },
  {
   "cell_type": "code",
   "execution_count": 8,
   "id": "aefa187c",
   "metadata": {
    "ExecuteTime": {
     "end_time": "2021-08-11T05:33:17.365226Z",
     "start_time": "2021-08-11T05:33:17.307183Z"
    }
   },
   "outputs": [
    {
     "name": "stdout",
     "output_type": "stream",
     "text": [
      "15\n"
     ]
    }
   ],
   "source": [
    "#merge the two population datasets together\n",
    "population = pd.concat([pop_2000, pop_2010_2020])\n",
    "\n",
    "#linearly interpolate missing years from 2000 to 2010\n",
    "population_start = population[population.year ==2000][['fips','population']]\n",
    "population_start.rename(columns={\"population\":\"2000_pop\"}, inplace = True)\n",
    "\n",
    "population_end = population[population.year ==2010][['fips','population']]\n",
    "population_end.rename(columns={\"population\":\"2010_pop\"}, inplace = True)\n",
    "\n",
    "population_slope = population_start.merge(population_end, how = 'left', on = 'fips')\n",
    "population_slope[\"slope\"] = (pd.to_numeric(population_slope[\"2010_pop\"]) - pd.to_numeric(population_slope[\"2000_pop\"]))/10\n",
    "population_slope\n",
    "\n",
    "fips = pd.DataFrame(population.fips.unique(), columns = ['fips'])\n",
    "years = pd.DataFrame({'year': [x for x in range(2001, 2010)]})\n",
    "\n",
    "fips['key'] = 1\n",
    "years['key'] = 1\n",
    "\n",
    "interpolated_pop = pd.merge(fips, years, on ='key').drop(\"key\", 1)\n",
    "interpolated_pop = interpolated_pop.merge(population_slope, how = 'left', on = 'fips')\n",
    "interpolated_pop[\"baseline_year\"] = 2000\n",
    "interpolated_pop[\"2000_pop\"] = pd.to_numeric(interpolated_pop[\"2000_pop\"])\n",
    "interpolated_pop[\"2010_pop\"]= pd.to_numeric(interpolated_pop[\"2010_pop\"])\n",
    "interpolated_pop[\"population\"] = interpolated_pop[\"2000_pop\"] + (interpolated_pop[\"year\"]-interpolated_pop[\"baseline_year\"])*interpolated_pop[\"slope\"]\n",
    "\n",
    "#15 missing fips due to 2000 population data not existing\n",
    "print(interpolated_pop[interpolated_pop.population.isnull()].fips.nunique())\n",
    "interpolated_pop = interpolated_pop[[\"fips\",\"year\",\"population\"]]\n",
    "\n",
    "population_w_estimates = pd.concat([population[[\"fips\",\"year\",\"population\"]], interpolated_pop]) \n",
    "\n",
    "#df['key'] = 1\n",
    "#df1['key'] = 1\n",
    "#result = pd.merge(df, df1, on ='key').drop(\"key\", 1)"
   ]
  },
  {
   "cell_type": "code",
   "execution_count": 39,
   "id": "7aba33ee",
   "metadata": {
    "ExecuteTime": {
     "end_time": "2021-08-11T06:05:04.371407Z",
     "start_time": "2021-08-11T06:05:04.347680Z"
    },
    "scrolled": true
   },
   "outputs": [],
   "source": [
    "# import rent data\n",
    "rent = pd.read_csv(\"Zip_ZORI_AllHomesPlusMultifamily_SSA.csv\")"
   ]
  },
  {
   "cell_type": "markdown",
   "id": "c2274040",
   "metadata": {},
   "source": [
    "# Preparing ZHVI Data and Aggregating to the FIPS Level"
   ]
  },
  {
   "cell_type": "code",
   "execution_count": 10,
   "id": "6be103c2",
   "metadata": {
    "ExecuteTime": {
     "end_time": "2021-08-11T05:33:17.698737Z",
     "start_time": "2021-08-11T05:33:17.419100Z"
    }
   },
   "outputs": [],
   "source": [
    "zhvi = zhvi.merge(pop_weights, how = 'left',left_on = 'zipcode',right_on = 'Zip Code ZCTA')\n",
    "zhvi['zhvi_pop_prod'] = zhvi['Census Population 2010']*zhvi['zhvi']"
   ]
  },
  {
   "cell_type": "code",
   "execution_count": 11,
   "id": "a07c3eb9",
   "metadata": {
    "ExecuteTime": {
     "end_time": "2021-08-11T05:33:18.208438Z",
     "start_time": "2021-08-11T05:33:17.700082Z"
    }
   },
   "outputs": [
    {
     "name": "stdout",
     "output_type": "stream",
     "text": [
      "0.05319918337346067\n",
      "0.39723717491406707\n"
     ]
    }
   ],
   "source": [
    "#Filter to dates with well populated ZHVI data and GDP data\n",
    "zhvi = zhvi[zhvi.year > 2000]\n",
    "zhvi = zhvi[zhvi.year < 2020]\n",
    "zhvi['missing'] = zhvi.zhvi.isnull()\n",
    "print(zhvi[zhvi.missing == True]['Census Population 2010'].sum()/zhvi['Census Population 2010'].sum())\n",
    "\n",
    "#make a list of zipcodes with partial data to exclude from the analysis\n",
    "zipmissing = zhvi.groupby('zipcode', as_index = False).missing.mean()\n",
    "print(zipmissing[zipmissing.missing > 0].shape[0] / zipmissing.shape[0])\n",
    "zipmissing = zipmissing[zipmissing.missing>0].zipcode\n",
    "zhvi = zhvi[~zhvi.zipcode.isin(zipmissing)]"
   ]
  },
  {
   "cell_type": "code",
   "execution_count": 12,
   "id": "ac0f425b",
   "metadata": {
    "ExecuteTime": {
     "end_time": "2021-08-11T05:33:18.252893Z",
     "start_time": "2021-08-11T05:33:18.209761Z"
    }
   },
   "outputs": [],
   "source": [
    "#Aggregate ZHVI from the zipcode level up to the FIPS level, weighting by 2010 population\n",
    "zhvi_fips_agg = zhvi.groupby(['fips','year'], as_index = False).agg({'zhvi': 'mean','zhvi_pop_prod': 'sum', 'Census Population 2010': 'sum'})\n",
    "zhvi_fips_agg['zhvi_weighted'] = zhvi_fips_agg['zhvi_pop_prod'] / zhvi_fips_agg['Census Population 2010']\n",
    "zhvi_fips_agg.fips = zhvi_fips_agg.fips.astype(int)\n"
   ]
  },
  {
   "cell_type": "code",
   "execution_count": 13,
   "id": "afa3c76d",
   "metadata": {
    "ExecuteTime": {
     "end_time": "2021-08-11T05:33:18.260288Z",
     "start_time": "2021-08-11T05:33:18.254174Z"
    }
   },
   "outputs": [
    {
     "name": "stdout",
     "output_type": "stream",
     "text": [
      "1\n"
     ]
    }
   ],
   "source": [
    "# population and therefore weighted ZHVI is missing for 1 FIPS -filter to only data that mapped to 2010 population data\n",
    "print(zhvi_fips_agg[zhvi_fips_agg.zhvi_weighted.isnull()].fips.nunique())\n",
    "zhvi_fips_agg.zhvi_weighted.isnull().sum()/zhvi_fips_agg.shape[0]\n",
    "zhvi_fips_agg = zhvi_fips_agg[zhvi_fips_agg.zhvi_weighted.isnull()==False]"
   ]
  },
  {
   "cell_type": "markdown",
   "id": "b7fba330",
   "metadata": {},
   "source": [
    "# Joining ZHVI Data to Other Data Sources"
   ]
  },
  {
   "cell_type": "code",
   "execution_count": 14,
   "id": "29a2e78b",
   "metadata": {
    "ExecuteTime": {
     "end_time": "2021-08-11T05:33:18.295676Z",
     "start_time": "2021-08-11T05:33:18.261453Z"
    }
   },
   "outputs": [
    {
     "name": "stdout",
     "output_type": "stream",
     "text": [
      "0.02125124131082423\n"
     ]
    }
   ],
   "source": [
    "# Merge ZHVI data with GDP data.  2% of FIPS don't have matching GDP data, filter those out\n",
    "df_agg = zhvi_fips_agg.merge(gdp_county, how = 'left', on = ['fips','year'])\n",
    "print(df_agg[\"All industry total\"].isnull().sum()/df_agg.shape[0])\n",
    "df_agg = df_agg[df_agg[\"All industry total\"].isnull()==False]"
   ]
  },
  {
   "cell_type": "code",
   "execution_count": 15,
   "id": "e71301aa",
   "metadata": {
    "ExecuteTime": {
     "end_time": "2021-08-11T05:33:18.331562Z",
     "start_time": "2021-08-11T05:33:18.296966Z"
    }
   },
   "outputs": [
    {
     "name": "stdout",
     "output_type": "stream",
     "text": [
      "0.00020292207792207794\n"
     ]
    }
   ],
   "source": [
    "# Merge ZHVI data with population data\n",
    "df_agg = df_agg.merge(population_w_estimates, how = 'left', on = ['fips','year'])\n",
    "print(df_agg[\"population\"].isnull().sum()/df_agg.shape[0])\n",
    "df_agg = df_agg[~df_agg[\"population\"].isnull()]"
   ]
  },
  {
   "cell_type": "markdown",
   "id": "b879bd4c",
   "metadata": {},
   "source": [
    "# Preparing data for export"
   ]
  },
  {
   "cell_type": "code",
   "execution_count": 17,
   "id": "df1a197c",
   "metadata": {
    "ExecuteTime": {
     "end_time": "2021-08-11T05:33:18.359378Z",
     "start_time": "2021-08-11T05:33:18.355607Z"
    }
   },
   "outputs": [],
   "source": [
    "# make a function to prepare the target feature desired (ie appreciation)\n",
    "def target_prep(timeseries_df, start_year, lookforward, target_variable):\n",
    "    baseline_df = timeseries_df[timeseries_df.year == start_year]\n",
    "    lookforward_df = timeseries_df[timeseries_df.year == start_year + lookforward]\n",
    "    df_out = baseline_df[[\"fips\", target_variable]]\n",
    "    df_out = df_out.merge(lookforward_df[['fips',target_variable]], how = 'left', on = 'fips')\n",
    "    df_out[target_variable] = df_out.iloc[:, [2]].values/df_out.iloc[:, [1]].values\n",
    "    df_out = df_out[[\"fips\", target_variable]]\n",
    "    df_out.columns = ['fips', target_variable + '_growth']\n",
    "    return df_out"
   ]
  },
  {
   "cell_type": "code",
   "execution_count": 18,
   "id": "2b1929d1",
   "metadata": {
    "ExecuteTime": {
     "end_time": "2021-08-11T05:33:18.366293Z",
     "start_time": "2021-08-11T05:33:18.360519Z"
    }
   },
   "outputs": [],
   "source": [
    "#function to calculate growth rate features over X year lookback\n",
    "\n",
    "def growth_feature_prep(timeseries_df, start_year, look_back, cols_to_adj):\n",
    "    baseline_df = timeseries_df[timeseries_df.year == start_year]\n",
    "    lookback_df = timeseries_df[timeseries_df.year == start_year - look_back]\n",
    "\n",
    "    df_out = baseline_df[[\"fips\"]]\n",
    "    \n",
    "    for col in cols_to_adj:\n",
    "        temp = baseline_df[['fips',col]]\n",
    "        temp = temp.merge(lookback_df[['fips',col]], how = 'left', on = 'fips')\n",
    "        temp[col] = temp.iloc[:, [1]].values/temp.iloc[:, [2]].values\n",
    "        temp = temp[['fips',col]]\n",
    "        temp.columns = ['fips', col + '_growth']\n",
    "        df_out = df_out.merge(temp, how = 'left', on= 'fips')        \n",
    "    return df_out\n"
   ]
  },
  {
   "cell_type": "code",
   "execution_count": 19,
   "id": "9e5fb6be",
   "metadata": {
    "ExecuteTime": {
     "end_time": "2021-08-11T05:33:18.370751Z",
     "start_time": "2021-08-11T05:33:18.367437Z"
    }
   },
   "outputs": [],
   "source": [
    "cols_to_adj = [#'   Accommodation and food services',\n",
    "               #'   Administrative and support and waste management and remediation services',\n",
    "               #'   Arts, entertainment, and recreation',\n",
    "               #'   Durable goods manufacturing', \n",
    "               #'   Educational services',\n",
    "               #'   Finance and insurance', \n",
    "               #'   Health care and social assistance',\n",
    "               #'   Management of companies and enterprises',\n",
    "               #'   Nondurable goods manufacturing',\n",
    "               #'   Professional, scientific, and technical services',\n",
    "               #'   Real estate and rental and leasing',\n",
    "               #'  Agriculture, forestry, fishing and hunting',\n",
    "               #'  Arts, entertainment, recreation, accommodation, and food services',\n",
    "               '  Construction',\n",
    "               #'  Educational services, health care, and social assistance',\n",
    "               '  Finance, insurance, real estate, rental, and leasing',\n",
    "               #'  Information', \n",
    "               '  Manufacturing',\n",
    "               '  Mining, quarrying, and oil and gas extraction',\n",
    "               #'  Other services (except government and government enterprises)',\n",
    "               #'  Professional and business services', \n",
    "               '  Retail trade',\n",
    "               #'  Transportation and warehousing', \n",
    "               #'  Utilities', \n",
    "               #'  Wholesale trade',\n",
    "               ' Private industries', \n",
    "               'All industry total',\n",
    "               'Government and government enterprises',\n",
    "               #'Manufacturing and information', \n",
    "               #'Natural resources and mining',\n",
    "               #'Private goods-producing industries 2/',\n",
    "               #'Private services-providing industries 3/', \n",
    "               #'Trade',\n",
    "               #'Transportation and utilities',\n",
    "               'population'\n",
    "]"
   ]
  },
  {
   "cell_type": "code",
   "execution_count": 20,
   "id": "5af0b980",
   "metadata": {
    "ExecuteTime": {
     "end_time": "2021-08-11T05:33:18.389153Z",
     "start_time": "2021-08-11T05:33:18.371868Z"
    }
   },
   "outputs": [],
   "source": [
    "fips_map = gdp_county.groupby(['fips','county'], as_index = False).year.count()\n",
    "fips_map = fips_map[['fips','county']]"
   ]
  },
  {
   "cell_type": "code",
   "execution_count": 21,
   "id": "0c53fb9f",
   "metadata": {
    "ExecuteTime": {
     "end_time": "2021-08-11T05:33:18.393646Z",
     "start_time": "2021-08-11T05:33:18.390377Z"
    }
   },
   "outputs": [
    {
     "data": {
      "text/plain": [
       "Index(['fips', 'year', 'zhvi', 'zhvi_pop_prod', 'Census Population 2010',\n",
       "       'zhvi_weighted', 'county', '   Accommodation and food services',\n",
       "       '   Administrative and support and waste management and remediation services',\n",
       "       '   Arts, entertainment, and recreation',\n",
       "       '   Durable goods manufacturing', '   Educational services',\n",
       "       '   Finance and insurance', '   Health care and social assistance',\n",
       "       '   Management of companies and enterprises',\n",
       "       '   Nondurable goods manufacturing',\n",
       "       '   Professional, scientific, and technical services',\n",
       "       '   Real estate and rental and leasing',\n",
       "       '  Agriculture, forestry, fishing and hunting',\n",
       "       '  Arts, entertainment, recreation, accommodation, and food services',\n",
       "       '  Construction',\n",
       "       '  Educational services, health care, and social assistance',\n",
       "       '  Finance, insurance, real estate, rental, and leasing',\n",
       "       '  Information', '  Manufacturing',\n",
       "       '  Mining, quarrying, and oil and gas extraction',\n",
       "       '  Other services (except government and government enterprises)',\n",
       "       '  Professional and business services', '  Retail trade',\n",
       "       '  Transportation and warehousing', '  Utilities', '  Wholesale trade',\n",
       "       ' Private industries', 'All industry total',\n",
       "       'Government and government enterprises',\n",
       "       'Manufacturing and information', 'Natural resources and mining',\n",
       "       'Private goods-producing industries 2/',\n",
       "       'Private services-providing industries 3/', 'Trade',\n",
       "       'Transportation and utilities', 'population'],\n",
       "      dtype='object')"
      ]
     },
     "execution_count": 21,
     "metadata": {},
     "output_type": "execute_result"
    }
   ],
   "source": [
    "df_agg.columns"
   ]
  },
  {
   "cell_type": "code",
   "execution_count": 22,
   "id": "89728a44",
   "metadata": {
    "ExecuteTime": {
     "end_time": "2021-08-11T05:33:18.398710Z",
     "start_time": "2021-08-11T05:33:18.394774Z"
    }
   },
   "outputs": [],
   "source": [
    "baseline_features = ['fips'\n",
    "                    ,'Census Population 2010',\n",
    "                     'zhvi_weighted',\n",
    "                    #'   Accommodation and food services',\n",
    "                    #'   Administrative and support and waste management and remediation services',\n",
    "                    #'   Arts, entertainment, and recreation',\n",
    "                    #'   Durable goods manufacturing', \n",
    "                    #'   Educational services',\n",
    "                    #'   Finance and insurance', \n",
    "                    #'   Health care and social assistance',\n",
    "                    #'   Management of companies and enterprises',\n",
    "                    #'   Nondurable goods manufacturing',\n",
    "                    #'   Professional, scientific, and technical services',\n",
    "                    #'   Real estate and rental and leasing',\n",
    "                    #'  Agriculture, forestry, fishing and hunting',\n",
    "                    #'  Arts, entertainment, recreation, accommodation, and food services',\n",
    "                    #'  Construction',\n",
    "                    #'  Educational services, health care, and social assistance',\n",
    "                    #'  Finance, insurance, real estate, rental, and leasing',\n",
    "                    #'  Information', \n",
    "                    #'  Manufacturing',\n",
    "                    #'  Mining, quarrying, and oil and gas extraction',\n",
    "                    #'  Other services (except government and government enterprises)',\n",
    "                    #'  Professional and business services', \n",
    "                    #'  Retail trade',\n",
    "                    #'  Transportation and warehousing', \n",
    "                    #'  Utilities', \n",
    "                    #'  Wholesale trade',\n",
    "                    ' Private industries', \n",
    "                    'All industry total',\n",
    "                    'Government and government enterprises',\n",
    "                    #'Manufacturing and information', \n",
    "                    #'Natural resources and mining',\n",
    "                    #'Private goods-producing industries 2/',\n",
    "                    #'Private services-providing industries 3/', \n",
    "                    #'Trade',\n",
    "                     #'Transportation and utilities',\n",
    "                     'population']"
   ]
  },
  {
   "cell_type": "code",
   "execution_count": 93,
   "id": "0e5ef7bf",
   "metadata": {
    "ExecuteTime": {
     "end_time": "2021-08-11T06:34:17.747321Z",
     "start_time": "2021-08-11T06:34:17.526456Z"
    }
   },
   "outputs": [
    {
     "name": "stderr",
     "output_type": "stream",
     "text": [
      "/code/venvs/venv/lib/python3.6/site-packages/ipykernel_launcher.py:12: RuntimeWarning: divide by zero encountered in true_divide\n",
      "  if sys.path[0] == '':\n",
      "/code/venvs/venv/lib/python3.6/site-packages/ipykernel_launcher.py:12: RuntimeWarning: invalid value encountered in true_divide\n",
      "  if sys.path[0] == '':\n"
     ]
    }
   ],
   "source": [
    "#Preparing Training & Testing Dataset\n",
    "start_year = 2004\n",
    "lookforward = 3\n",
    "look_back = 3\n",
    "\n",
    "\n",
    "df_target = target_prep(df_agg, start_year = start_year, lookforward = lookforward, target_variable = 'zhvi_weighted')\n",
    "df_growth_features = growth_feature_prep(df_agg, start_year = start_year, look_back = look_back, cols_to_adj = cols_to_adj)\n",
    "baseline_df = df_agg[df_agg.year == start_year]\n",
    "df = df_target.merge(df_growth_features, how = 'left', on = 'fips')\n",
    "df = df.merge(fips_map, how = 'left',on = 'fips')\n",
    "df = df.merge(baseline_df[baseline_features], how = 'left',on = 'fips')\n",
    "\n",
    "df_train_test = df\n",
    "\n",
    "df_train_test.to_csv('df_train_test.csv', index = False)"
   ]
  },
  {
   "cell_type": "code",
   "execution_count": 92,
   "id": "c7c607bd",
   "metadata": {
    "ExecuteTime": {
     "end_time": "2021-08-11T06:34:04.378891Z",
     "start_time": "2021-08-11T06:34:04.142692Z"
    }
   },
   "outputs": [
    {
     "name": "stderr",
     "output_type": "stream",
     "text": [
      "/code/venvs/venv/lib/python3.6/site-packages/ipykernel_launcher.py:12: RuntimeWarning: divide by zero encountered in true_divide\n",
      "  if sys.path[0] == '':\n",
      "/code/venvs/venv/lib/python3.6/site-packages/ipykernel_launcher.py:12: RuntimeWarning: invalid value encountered in true_divide\n",
      "  if sys.path[0] == '':\n"
     ]
    }
   ],
   "source": [
    "# Preparing Validation Dataset\n",
    "start_year = 2016\n",
    "lookforward = 3\n",
    "look_back = 3\n",
    "\n",
    "df_target = target_prep(df_agg, start_year = start_year, lookforward = lookforward, target_variable = 'zhvi_weighted')\n",
    "df_growth_features = growth_feature_prep(df_agg, start_year = start_year, look_back = look_back, cols_to_adj = cols_to_adj)\n",
    "baseline_df = df_agg[df_agg.year == start_year]\n",
    "df = df_target.merge(df_growth_features, how = 'left', on = 'fips')\n",
    "df = df.merge(fips_map, how = 'left',on = 'fips')\n",
    "df = df.merge(baseline_df[baseline_features], how = 'left',on = 'fips')\n",
    "\n",
    "df_val = df\n",
    "\n",
    "df_val.to_csv('df_validation.csv', index = False)"
   ]
  },
  {
   "cell_type": "code",
   "execution_count": 94,
   "id": "d2624987",
   "metadata": {
    "ExecuteTime": {
     "end_time": "2021-08-11T06:36:17.273351Z",
     "start_time": "2021-08-11T06:36:17.108210Z"
    }
   },
   "outputs": [
    {
     "name": "stderr",
     "output_type": "stream",
     "text": [
      "/code/venvs/venv/lib/python3.6/site-packages/ipykernel_launcher.py:12: RuntimeWarning: divide by zero encountered in true_divide\n",
      "  if sys.path[0] == '':\n",
      "/code/venvs/venv/lib/python3.6/site-packages/ipykernel_launcher.py:12: RuntimeWarning: invalid value encountered in true_divide\n",
      "  if sys.path[0] == '':\n"
     ]
    }
   ],
   "source": [
    "# Preparing Scoring Dataset\n",
    "start_year = 2019\n",
    "#lookforward = 3\n",
    "look_back = 3\n",
    "\n",
    "#df_target = target_prep(df_agg, start_year = start_year, lookforward = lookforward, target_variable = 'zhvi_weighted')\n",
    "df_growth_features = growth_feature_prep(df_agg, start_year = start_year, look_back = look_back, cols_to_adj = cols_to_adj)\n",
    "baseline_df = df_agg[df_agg.year == start_year]\n",
    "#df = df_target.merge(df_growth_features, how = 'left', on = 'fips')\n",
    "df = df_growth_features.merge(fips_map, how = 'left',on = 'fips')\n",
    "df = df.merge(baseline_df[baseline_features], how = 'left',on = 'fips')\n",
    "\n",
    "df_score = df\n",
    "\n",
    "df_score.to_csv('df_score.csv', index = False)\n"
   ]
  },
  {
   "cell_type": "code",
   "execution_count": 25,
   "id": "a6edacc6",
   "metadata": {
    "ExecuteTime": {
     "end_time": "2021-08-11T05:33:18.842987Z",
     "start_time": "2021-08-11T05:33:18.831845Z"
    }
   },
   "outputs": [
    {
     "data": {
      "text/html": [
       "<div>\n",
       "<style scoped>\n",
       "    .dataframe tbody tr th:only-of-type {\n",
       "        vertical-align: middle;\n",
       "    }\n",
       "\n",
       "    .dataframe tbody tr th {\n",
       "        vertical-align: top;\n",
       "    }\n",
       "\n",
       "    .dataframe thead th {\n",
       "        text-align: right;\n",
       "    }\n",
       "</style>\n",
       "<table border=\"1\" class=\"dataframe\">\n",
       "  <thead>\n",
       "    <tr style=\"text-align: right;\">\n",
       "      <th></th>\n",
       "      <th>column_name</th>\n",
       "      <th>percent_missing</th>\n",
       "    </tr>\n",
       "  </thead>\n",
       "  <tbody>\n",
       "    <tr>\n",
       "      <th>fips</th>\n",
       "      <td>fips</td>\n",
       "      <td>0.000000</td>\n",
       "    </tr>\n",
       "    <tr>\n",
       "      <th>All industry total</th>\n",
       "      <td>All industry total</td>\n",
       "      <td>0.000000</td>\n",
       "    </tr>\n",
       "    <tr>\n",
       "      <th>Private industries</th>\n",
       "      <td>Private industries</td>\n",
       "      <td>0.000000</td>\n",
       "    </tr>\n",
       "    <tr>\n",
       "      <th>zhvi_weighted</th>\n",
       "      <td>zhvi_weighted</td>\n",
       "      <td>0.000000</td>\n",
       "    </tr>\n",
       "    <tr>\n",
       "      <th>Census Population 2010</th>\n",
       "      <td>Census Population 2010</td>\n",
       "      <td>0.000000</td>\n",
       "    </tr>\n",
       "    <tr>\n",
       "      <th>county</th>\n",
       "      <td>county</td>\n",
       "      <td>0.000000</td>\n",
       "    </tr>\n",
       "    <tr>\n",
       "      <th>population_growth</th>\n",
       "      <td>population_growth</td>\n",
       "      <td>0.000000</td>\n",
       "    </tr>\n",
       "    <tr>\n",
       "      <th>Government and government enterprises_growth</th>\n",
       "      <td>Government and government enterprises_growth</td>\n",
       "      <td>0.000000</td>\n",
       "    </tr>\n",
       "    <tr>\n",
       "      <th>All industry total_growth</th>\n",
       "      <td>All industry total_growth</td>\n",
       "      <td>0.000000</td>\n",
       "    </tr>\n",
       "    <tr>\n",
       "      <th>Private industries_growth</th>\n",
       "      <td>Private industries_growth</td>\n",
       "      <td>0.000000</td>\n",
       "    </tr>\n",
       "    <tr>\n",
       "      <th>zhvi_weighted_growth</th>\n",
       "      <td>zhvi_weighted_growth</td>\n",
       "      <td>0.000000</td>\n",
       "    </tr>\n",
       "    <tr>\n",
       "      <th>Government and government enterprises</th>\n",
       "      <td>Government and government enterprises</td>\n",
       "      <td>0.000000</td>\n",
       "    </tr>\n",
       "    <tr>\n",
       "      <th>population</th>\n",
       "      <td>population</td>\n",
       "      <td>0.000000</td>\n",
       "    </tr>\n",
       "    <tr>\n",
       "      <th>Finance, insurance, real estate, rental, and leasing_growth</th>\n",
       "      <td>Finance, insurance, real estate, rental, and...</td>\n",
       "      <td>0.096386</td>\n",
       "    </tr>\n",
       "    <tr>\n",
       "      <th>Retail trade_growth</th>\n",
       "      <td>Retail trade_growth</td>\n",
       "      <td>1.831325</td>\n",
       "    </tr>\n",
       "    <tr>\n",
       "      <th>Manufacturing_growth</th>\n",
       "      <td>Manufacturing_growth</td>\n",
       "      <td>7.084337</td>\n",
       "    </tr>\n",
       "    <tr>\n",
       "      <th>Construction_growth</th>\n",
       "      <td>Construction_growth</td>\n",
       "      <td>8.385542</td>\n",
       "    </tr>\n",
       "    <tr>\n",
       "      <th>Mining, quarrying, and oil and gas extraction_growth</th>\n",
       "      <td>Mining, quarrying, and oil and gas extractio...</td>\n",
       "      <td>16.915663</td>\n",
       "    </tr>\n",
       "  </tbody>\n",
       "</table>\n",
       "</div>"
      ],
      "text/plain": [
       "                                                                                          column_name  \\\n",
       "fips                                                                                             fips   \n",
       "All industry total                                                                 All industry total   \n",
       " Private industries                                                                Private industries   \n",
       "zhvi_weighted                                                                           zhvi_weighted   \n",
       "Census Population 2010                                                         Census Population 2010   \n",
       "county                                                                                         county   \n",
       "population_growth                                                                   population_growth   \n",
       "Government and government enterprises_growth             Government and government enterprises_growth   \n",
       "All industry total_growth                                                   All industry total_growth   \n",
       " Private industries_growth                                                  Private industries_growth   \n",
       "zhvi_weighted_growth                                                             zhvi_weighted_growth   \n",
       "Government and government enterprises                           Government and government enterprises   \n",
       "population                                                                                 population   \n",
       "  Finance, insurance, real estate, rental, and ...    Finance, insurance, real estate, rental, and...   \n",
       "  Retail trade_growth                                                             Retail trade_growth   \n",
       "  Manufacturing_growth                                                           Manufacturing_growth   \n",
       "  Construction_growth                                                             Construction_growth   \n",
       "  Mining, quarrying, and oil and gas extraction...    Mining, quarrying, and oil and gas extractio...   \n",
       "\n",
       "                                                    percent_missing  \n",
       "fips                                                       0.000000  \n",
       "All industry total                                         0.000000  \n",
       " Private industries                                        0.000000  \n",
       "zhvi_weighted                                              0.000000  \n",
       "Census Population 2010                                     0.000000  \n",
       "county                                                     0.000000  \n",
       "population_growth                                          0.000000  \n",
       "Government and government enterprises_growth               0.000000  \n",
       "All industry total_growth                                  0.000000  \n",
       " Private industries_growth                                 0.000000  \n",
       "zhvi_weighted_growth                                       0.000000  \n",
       "Government and government enterprises                      0.000000  \n",
       "population                                                 0.000000  \n",
       "  Finance, insurance, real estate, rental, and ...         0.096386  \n",
       "  Retail trade_growth                                      1.831325  \n",
       "  Manufacturing_growth                                     7.084337  \n",
       "  Construction_growth                                      8.385542  \n",
       "  Mining, quarrying, and oil and gas extraction...        16.915663  "
      ]
     },
     "execution_count": 25,
     "metadata": {},
     "output_type": "execute_result"
    }
   ],
   "source": [
    "percent_missing = df.isnull().sum() * 100 / len(df)\n",
    "missing_value_df = pd.DataFrame({'column_name': df.columns,\n",
    "                                 'percent_missing': percent_missing})\n",
    "missing_value_df.sort_values('percent_missing', inplace=True)\n",
    "missing_value_df.head(50)"
   ]
  },
  {
   "cell_type": "code",
   "execution_count": 38,
   "id": "4f81c767",
   "metadata": {
    "ExecuteTime": {
     "end_time": "2021-08-11T05:37:37.148843Z",
     "start_time": "2021-08-11T05:37:37.112382Z"
    }
   },
   "outputs": [],
   "source": [
    "df_agg[df_agg.county.str.contains('San Fran')].groupby(['year']).agg({'zhvi_weighted':'sum'}).to_csv('sf_growth.csv')"
   ]
  },
  {
   "cell_type": "markdown",
   "id": "175db365",
   "metadata": {},
   "source": [
    "# QA"
   ]
  },
  {
   "cell_type": "code",
   "execution_count": 42,
   "id": "d16617ef",
   "metadata": {
    "ExecuteTime": {
     "end_time": "2021-08-11T06:07:20.841039Z",
     "start_time": "2021-08-11T06:07:20.824270Z"
    }
   },
   "outputs": [
    {
     "data": {
      "text/html": [
       "<div>\n",
       "<style scoped>\n",
       "    .dataframe tbody tr th:only-of-type {\n",
       "        vertical-align: middle;\n",
       "    }\n",
       "\n",
       "    .dataframe tbody tr th {\n",
       "        vertical-align: top;\n",
       "    }\n",
       "\n",
       "    .dataframe thead th {\n",
       "        text-align: right;\n",
       "    }\n",
       "</style>\n",
       "<table border=\"1\" class=\"dataframe\">\n",
       "  <thead>\n",
       "    <tr style=\"text-align: right;\">\n",
       "      <th></th>\n",
       "      <th>fips</th>\n",
       "      <th>zhvi_weighted_growth</th>\n",
       "      <th>Construction_growth</th>\n",
       "      <th>Finance, insurance, real estate, rental, and leasing_growth</th>\n",
       "      <th>Manufacturing_growth</th>\n",
       "      <th>Mining, quarrying, and oil and gas extraction_growth</th>\n",
       "      <th>Retail trade_growth</th>\n",
       "      <th>Private industries_growth</th>\n",
       "      <th>All industry total_growth</th>\n",
       "      <th>Government and government enterprises_growth</th>\n",
       "      <th>population_growth</th>\n",
       "      <th>county</th>\n",
       "      <th>Census Population 2010</th>\n",
       "      <th>zhvi_weighted</th>\n",
       "      <th>Private industries</th>\n",
       "      <th>All industry total</th>\n",
       "      <th>Government and government enterprises</th>\n",
       "      <th>population</th>\n",
       "    </tr>\n",
       "  </thead>\n",
       "  <tbody>\n",
       "    <tr>\n",
       "      <th>0</th>\n",
       "      <td>1001</td>\n",
       "      <td>1.082575</td>\n",
       "      <td>1.051956</td>\n",
       "      <td>1.080042</td>\n",
       "      <td>1.461403</td>\n",
       "      <td>1.163204</td>\n",
       "      <td>1.029792</td>\n",
       "      <td>1.183760</td>\n",
       "      <td>1.177357</td>\n",
       "      <td>1.140960</td>\n",
       "      <td>1.00943</td>\n",
       "      <td>Autauga, AL</td>\n",
       "      <td>108787.0</td>\n",
       "      <td>133298.048379</td>\n",
       "      <td>1467403.0</td>\n",
       "      <td>1716235.0</td>\n",
       "      <td>248832.0</td>\n",
       "      <td>55243</td>\n",
       "    </tr>\n",
       "    <tr>\n",
       "      <th>1</th>\n",
       "      <td>1003</td>\n",
       "      <td>1.196052</td>\n",
       "      <td>1.549400</td>\n",
       "      <td>1.082270</td>\n",
       "      <td>1.132365</td>\n",
       "      <td>1.411830</td>\n",
       "      <td>1.181364</td>\n",
       "      <td>1.172457</td>\n",
       "      <td>1.165286</td>\n",
       "      <td>1.114800</td>\n",
       "      <td>1.06525</td>\n",
       "      <td>Baldwin, AL</td>\n",
       "      <td>200224.0</td>\n",
       "      <td>166219.255019</td>\n",
       "      <td>5447808.0</td>\n",
       "      <td>6183519.0</td>\n",
       "      <td>735711.0</td>\n",
       "      <td>207601</td>\n",
       "    </tr>\n",
       "    <tr>\n",
       "      <th>2</th>\n",
       "      <td>1005</td>\n",
       "      <td>1.263707</td>\n",
       "      <td>1.328328</td>\n",
       "      <td>1.057611</td>\n",
       "      <td>0.810301</td>\n",
       "      <td>1.228594</td>\n",
       "      <td>1.016105</td>\n",
       "      <td>0.905310</td>\n",
       "      <td>0.918274</td>\n",
       "      <td>1.000026</td>\n",
       "      <td>0.958013</td>\n",
       "      <td>Barbour, AL</td>\n",
       "      <td>20591.0</td>\n",
       "      <td>83345.580254</td>\n",
       "      <td>650008.0</td>\n",
       "      <td>763866.0</td>\n",
       "      <td>113858.0</td>\n",
       "      <td>25806</td>\n",
       "    </tr>\n",
       "    <tr>\n",
       "      <th>3</th>\n",
       "      <td>1007</td>\n",
       "      <td>1.114827</td>\n",
       "      <td>1.019554</td>\n",
       "      <td>1.066709</td>\n",
       "      <td>0.887599</td>\n",
       "      <td>0.344712</td>\n",
       "      <td>1.059316</td>\n",
       "      <td>1.012150</td>\n",
       "      <td>1.022325</td>\n",
       "      <td>1.058336</td>\n",
       "      <td>1.00289</td>\n",
       "      <td>Bibb, AL</td>\n",
       "      <td>58454.0</td>\n",
       "      <td>157687.981592</td>\n",
       "      <td>304988.0</td>\n",
       "      <td>395153.0</td>\n",
       "      <td>90166.0</td>\n",
       "      <td>22586</td>\n",
       "    </tr>\n",
       "    <tr>\n",
       "      <th>4</th>\n",
       "      <td>1009</td>\n",
       "      <td>1.136720</td>\n",
       "      <td>1.116591</td>\n",
       "      <td>1.064714</td>\n",
       "      <td>0.884030</td>\n",
       "      <td>0.467579</td>\n",
       "      <td>1.055315</td>\n",
       "      <td>0.988232</td>\n",
       "      <td>0.995736</td>\n",
       "      <td>1.034130</td>\n",
       "      <td>0.997831</td>\n",
       "      <td>Blount, AL</td>\n",
       "      <td>140642.0</td>\n",
       "      <td>146741.044532</td>\n",
       "      <td>727561.0</td>\n",
       "      <td>876333.0</td>\n",
       "      <td>148771.0</td>\n",
       "      <td>57494</td>\n",
       "    </tr>\n",
       "  </tbody>\n",
       "</table>\n",
       "</div>"
      ],
      "text/plain": [
       "   fips  zhvi_weighted_growth    Construction_growth  \\\n",
       "0  1001              1.082575               1.051956   \n",
       "1  1003              1.196052               1.549400   \n",
       "2  1005              1.263707               1.328328   \n",
       "3  1007              1.114827               1.019554   \n",
       "4  1009              1.136720               1.116591   \n",
       "\n",
       "     Finance, insurance, real estate, rental, and leasing_growth  \\\n",
       "0                                           1.080042               \n",
       "1                                           1.082270               \n",
       "2                                           1.057611               \n",
       "3                                           1.066709               \n",
       "4                                           1.064714               \n",
       "\n",
       "     Manufacturing_growth  \\\n",
       "0                1.461403   \n",
       "1                1.132365   \n",
       "2                0.810301   \n",
       "3                0.887599   \n",
       "4                0.884030   \n",
       "\n",
       "     Mining, quarrying, and oil and gas extraction_growth  \\\n",
       "0                                           1.163204        \n",
       "1                                           1.411830        \n",
       "2                                           1.228594        \n",
       "3                                           0.344712        \n",
       "4                                           0.467579        \n",
       "\n",
       "     Retail trade_growth   Private industries_growth  \\\n",
       "0               1.029792                    1.183760   \n",
       "1               1.181364                    1.172457   \n",
       "2               1.016105                    0.905310   \n",
       "3               1.059316                    1.012150   \n",
       "4               1.055315                    0.988232   \n",
       "\n",
       "   All industry total_growth  Government and government enterprises_growth  \\\n",
       "0                   1.177357                                      1.140960   \n",
       "1                   1.165286                                      1.114800   \n",
       "2                   0.918274                                      1.000026   \n",
       "3                   1.022325                                      1.058336   \n",
       "4                   0.995736                                      1.034130   \n",
       "\n",
       "  population_growth       county  Census Population 2010  zhvi_weighted  \\\n",
       "0           1.00943  Autauga, AL                108787.0  133298.048379   \n",
       "1           1.06525  Baldwin, AL                200224.0  166219.255019   \n",
       "2          0.958013  Barbour, AL                 20591.0   83345.580254   \n",
       "3           1.00289     Bibb, AL                 58454.0  157687.981592   \n",
       "4          0.997831   Blount, AL                140642.0  146741.044532   \n",
       "\n",
       "    Private industries  All industry total  \\\n",
       "0            1467403.0           1716235.0   \n",
       "1            5447808.0           6183519.0   \n",
       "2             650008.0            763866.0   \n",
       "3             304988.0            395153.0   \n",
       "4             727561.0            876333.0   \n",
       "\n",
       "   Government and government enterprises population  \n",
       "0                               248832.0      55243  \n",
       "1                               735711.0     207601  \n",
       "2                               113858.0      25806  \n",
       "3                                90166.0      22586  \n",
       "4                               148771.0      57494  "
      ]
     },
     "execution_count": 42,
     "metadata": {},
     "output_type": "execute_result"
    }
   ],
   "source": [
    "# Check that values in the validation dataset match expectations vs the raw data\n",
    "#Looks good for GDP data comparing 2016 to 2013\n",
    "df_val.head()"
   ]
  },
  {
   "cell_type": "code",
   "execution_count": 88,
   "id": "9e512528",
   "metadata": {
    "ExecuteTime": {
     "end_time": "2021-08-11T06:28:19.700687Z",
     "start_time": "2021-08-11T06:28:19.667738Z"
    }
   },
   "outputs": [
    {
     "data": {
      "text/html": [
       "<div>\n",
       "<style scoped>\n",
       "    .dataframe tbody tr th:only-of-type {\n",
       "        vertical-align: middle;\n",
       "    }\n",
       "\n",
       "    .dataframe tbody tr th {\n",
       "        vertical-align: top;\n",
       "    }\n",
       "\n",
       "    .dataframe thead th {\n",
       "        text-align: right;\n",
       "    }\n",
       "</style>\n",
       "<table border=\"1\" class=\"dataframe\">\n",
       "  <thead>\n",
       "    <tr style=\"text-align: right;\">\n",
       "      <th></th>\n",
       "      <th>fips</th>\n",
       "      <th>zhvi_weighted_growth</th>\n",
       "      <th>Construction_growth</th>\n",
       "      <th>Finance, insurance, real estate, rental, and leasing_growth</th>\n",
       "      <th>Manufacturing_growth</th>\n",
       "      <th>Mining, quarrying, and oil and gas extraction_growth</th>\n",
       "      <th>Retail trade_growth</th>\n",
       "      <th>Private industries_growth</th>\n",
       "      <th>All industry total_growth</th>\n",
       "      <th>Government and government enterprises_growth</th>\n",
       "      <th>population_growth</th>\n",
       "      <th>county</th>\n",
       "      <th>Census Population 2010</th>\n",
       "      <th>zhvi_weighted</th>\n",
       "      <th>Private industries</th>\n",
       "      <th>All industry total</th>\n",
       "      <th>Government and government enterprises</th>\n",
       "      <th>population</th>\n",
       "    </tr>\n",
       "  </thead>\n",
       "  <tbody>\n",
       "    <tr>\n",
       "      <th>0</th>\n",
       "      <td>1001</td>\n",
       "      <td>1.209146</td>\n",
       "      <td>0.694951</td>\n",
       "      <td>1.236581</td>\n",
       "      <td>1.016480</td>\n",
       "      <td>1.691146</td>\n",
       "      <td>1.244984</td>\n",
       "      <td>1.238746</td>\n",
       "      <td>1.264443</td>\n",
       "      <td>1.438165</td>\n",
       "      <td>1.07437</td>\n",
       "      <td>Autauga, AL</td>\n",
       "      <td>108787.0</td>\n",
       "      <td>112952.424159</td>\n",
       "      <td>808170.0</td>\n",
       "      <td>946964.0</td>\n",
       "      <td>138793.0</td>\n",
       "      <td>48111.8</td>\n",
       "    </tr>\n",
       "    <tr>\n",
       "      <th>1</th>\n",
       "      <td>1003</td>\n",
       "      <td>1.457189</td>\n",
       "      <td>1.226898</td>\n",
       "      <td>1.285057</td>\n",
       "      <td>1.199572</td>\n",
       "      <td>1.305015</td>\n",
       "      <td>1.338502</td>\n",
       "      <td>1.292162</td>\n",
       "      <td>1.290783</td>\n",
       "      <td>1.281135</td>\n",
       "      <td>1.08853</td>\n",
       "      <td>Baldwin, AL</td>\n",
       "      <td>200224.0</td>\n",
       "      <td>138199.736121</td>\n",
       "      <td>3440210.0</td>\n",
       "      <td>3927738.0</td>\n",
       "      <td>487527.0</td>\n",
       "      <td>157494</td>\n",
       "    </tr>\n",
       "    <tr>\n",
       "      <th>2</th>\n",
       "      <td>1005</td>\n",
       "      <td>1.195766</td>\n",
       "      <td>1.099945</td>\n",
       "      <td>1.144663</td>\n",
       "      <td>1.291125</td>\n",
       "      <td>0.992997</td>\n",
       "      <td>1.242456</td>\n",
       "      <td>1.206069</td>\n",
       "      <td>1.192440</td>\n",
       "      <td>1.107652</td>\n",
       "      <td>0.982218</td>\n",
       "      <td>Barbour, AL</td>\n",
       "      <td>20591.0</td>\n",
       "      <td>68310.832063</td>\n",
       "      <td>663473.0</td>\n",
       "      <td>761416.0</td>\n",
       "      <td>97943.0</td>\n",
       "      <td>28353.6</td>\n",
       "    </tr>\n",
       "    <tr>\n",
       "      <th>3</th>\n",
       "      <td>1007</td>\n",
       "      <td>1.169099</td>\n",
       "      <td>1.897191</td>\n",
       "      <td>1.109655</td>\n",
       "      <td>1.194022</td>\n",
       "      <td>0.859638</td>\n",
       "      <td>1.064291</td>\n",
       "      <td>1.242564</td>\n",
       "      <td>1.224252</td>\n",
       "      <td>1.169466</td>\n",
       "      <td>1.02916</td>\n",
       "      <td>Bibb, AL</td>\n",
       "      <td>58454.0</td>\n",
       "      <td>146716.181356</td>\n",
       "      <td>208214.0</td>\n",
       "      <td>273739.0</td>\n",
       "      <td>65524.0</td>\n",
       "      <td>21643.6</td>\n",
       "    </tr>\n",
       "    <tr>\n",
       "      <th>4</th>\n",
       "      <td>1009</td>\n",
       "      <td>1.127905</td>\n",
       "      <td>1.086735</td>\n",
       "      <td>1.146160</td>\n",
       "      <td>NaN</td>\n",
       "      <td>1.982682</td>\n",
       "      <td>1.023986</td>\n",
       "      <td>1.113936</td>\n",
       "      <td>1.126677</td>\n",
       "      <td>1.205297</td>\n",
       "      <td>1.03689</td>\n",
       "      <td>Blount, AL</td>\n",
       "      <td>140642.0</td>\n",
       "      <td>136578.880683</td>\n",
       "      <td>594727.0</td>\n",
       "      <td>698997.0</td>\n",
       "      <td>104269.0</td>\n",
       "      <td>53564.8</td>\n",
       "    </tr>\n",
       "  </tbody>\n",
       "</table>\n",
       "</div>"
      ],
      "text/plain": [
       "   fips  zhvi_weighted_growth    Construction_growth  \\\n",
       "0  1001              1.209146               0.694951   \n",
       "1  1003              1.457189               1.226898   \n",
       "2  1005              1.195766               1.099945   \n",
       "3  1007              1.169099               1.897191   \n",
       "4  1009              1.127905               1.086735   \n",
       "\n",
       "     Finance, insurance, real estate, rental, and leasing_growth  \\\n",
       "0                                           1.236581               \n",
       "1                                           1.285057               \n",
       "2                                           1.144663               \n",
       "3                                           1.109655               \n",
       "4                                           1.146160               \n",
       "\n",
       "     Manufacturing_growth  \\\n",
       "0                1.016480   \n",
       "1                1.199572   \n",
       "2                1.291125   \n",
       "3                1.194022   \n",
       "4                     NaN   \n",
       "\n",
       "     Mining, quarrying, and oil and gas extraction_growth  \\\n",
       "0                                           1.691146        \n",
       "1                                           1.305015        \n",
       "2                                           0.992997        \n",
       "3                                           0.859638        \n",
       "4                                           1.982682        \n",
       "\n",
       "     Retail trade_growth   Private industries_growth  \\\n",
       "0               1.244984                    1.238746   \n",
       "1               1.338502                    1.292162   \n",
       "2               1.242456                    1.206069   \n",
       "3               1.064291                    1.242564   \n",
       "4               1.023986                    1.113936   \n",
       "\n",
       "   All industry total_growth  Government and government enterprises_growth  \\\n",
       "0                   1.264443                                      1.438165   \n",
       "1                   1.290783                                      1.281135   \n",
       "2                   1.192440                                      1.107652   \n",
       "3                   1.224252                                      1.169466   \n",
       "4                   1.126677                                      1.205297   \n",
       "\n",
       "  population_growth       county  Census Population 2010  zhvi_weighted  \\\n",
       "0           1.07437  Autauga, AL                108787.0  112952.424159   \n",
       "1           1.08853  Baldwin, AL                200224.0  138199.736121   \n",
       "2          0.982218  Barbour, AL                 20591.0   68310.832063   \n",
       "3           1.02916     Bibb, AL                 58454.0  146716.181356   \n",
       "4           1.03689   Blount, AL                140642.0  136578.880683   \n",
       "\n",
       "    Private industries  All industry total  \\\n",
       "0             808170.0            946964.0   \n",
       "1            3440210.0           3927738.0   \n",
       "2             663473.0            761416.0   \n",
       "3             208214.0            273739.0   \n",
       "4             594727.0            698997.0   \n",
       "\n",
       "   Government and government enterprises population  \n",
       "0                               138793.0    48111.8  \n",
       "1                               487527.0     157494  \n",
       "2                                97943.0    28353.6  \n",
       "3                                65524.0    21643.6  \n",
       "4                               104269.0    53564.8  "
      ]
     },
     "execution_count": 88,
     "metadata": {},
     "output_type": "execute_result"
    }
   ],
   "source": [
    "df_train_test.head()"
   ]
  },
  {
   "cell_type": "code",
   "execution_count": 91,
   "id": "5ca0f6ca",
   "metadata": {
    "ExecuteTime": {
     "end_time": "2021-08-11T06:30:38.772661Z",
     "start_time": "2021-08-11T06:30:36.513710Z"
    }
   },
   "outputs": [
    {
     "name": "stderr",
     "output_type": "stream",
     "text": [
      "/code/venvs/venv/lib/python3.6/site-packages/ipykernel_launcher.py:1: ParserWarning: Falling back to the 'python' engine because the 'c' engine does not support skipfooter; you can avoid this warning by specifying engine='python'.\n",
      "  \"\"\"Entry point for launching an IPython kernel.\n"
     ]
    },
    {
     "data": {
      "text/html": [
       "<div>\n",
       "<style scoped>\n",
       "    .dataframe tbody tr th:only-of-type {\n",
       "        vertical-align: middle;\n",
       "    }\n",
       "\n",
       "    .dataframe tbody tr th {\n",
       "        vertical-align: top;\n",
       "    }\n",
       "\n",
       "    .dataframe thead th {\n",
       "        text-align: right;\n",
       "    }\n",
       "</style>\n",
       "<table border=\"1\" class=\"dataframe\">\n",
       "  <thead>\n",
       "    <tr style=\"text-align: right;\">\n",
       "      <th></th>\n",
       "      <th>Description</th>\n",
       "      <th>2001</th>\n",
       "      <th>2004</th>\n",
       "      <th>2013</th>\n",
       "      <th>2016</th>\n",
       "    </tr>\n",
       "  </thead>\n",
       "  <tbody>\n",
       "    <tr>\n",
       "      <th>68</th>\n",
       "      <td>All industry total</td>\n",
       "      <td>748918</td>\n",
       "      <td>946964</td>\n",
       "      <td>1457702</td>\n",
       "      <td>1716235</td>\n",
       "    </tr>\n",
       "    <tr>\n",
       "      <th>69</th>\n",
       "      <td>Private industries</td>\n",
       "      <td>652410</td>\n",
       "      <td>808170</td>\n",
       "      <td>1239612</td>\n",
       "      <td>1467403</td>\n",
       "    </tr>\n",
       "    <tr>\n",
       "      <th>70</th>\n",
       "      <td>Agriculture, forestry, fishing and hunting</td>\n",
       "      <td>14756</td>\n",
       "      <td>39394</td>\n",
       "      <td>28355</td>\n",
       "      <td>22791</td>\n",
       "    </tr>\n",
       "    <tr>\n",
       "      <th>71</th>\n",
       "      <td>Mining, quarrying, and oil and gas extraction</td>\n",
       "      <td>1457</td>\n",
       "      <td>2464</td>\n",
       "      <td>14681</td>\n",
       "      <td>17077</td>\n",
       "    </tr>\n",
       "    <tr>\n",
       "      <th>72</th>\n",
       "      <td>Utilities</td>\n",
       "      <td>19515</td>\n",
       "      <td>81339</td>\n",
       "      <td>376088</td>\n",
       "      <td>456310</td>\n",
       "    </tr>\n",
       "    <tr>\n",
       "      <th>...</th>\n",
       "      <td>...</td>\n",
       "      <td>...</td>\n",
       "      <td>...</td>\n",
       "      <td>...</td>\n",
       "      <td>...</td>\n",
       "    </tr>\n",
       "    <tr>\n",
       "      <th>97609</th>\n",
       "      <td>Trade</td>\n",
       "      <td>62825</td>\n",
       "      <td>69162</td>\n",
       "      <td>92745</td>\n",
       "      <td>97884</td>\n",
       "    </tr>\n",
       "    <tr>\n",
       "      <th>97610</th>\n",
       "      <td>Transportation and utilities</td>\n",
       "      <td>17624</td>\n",
       "      <td>22520</td>\n",
       "      <td>(D)</td>\n",
       "      <td>(D)</td>\n",
       "    </tr>\n",
       "    <tr>\n",
       "      <th>97611</th>\n",
       "      <td>Manufacturing and information</td>\n",
       "      <td>921317</td>\n",
       "      <td>654996</td>\n",
       "      <td>1095804</td>\n",
       "      <td>490533</td>\n",
       "    </tr>\n",
       "    <tr>\n",
       "      <th>97612</th>\n",
       "      <td>Private goods-producing industries 2/</td>\n",
       "      <td>1019309</td>\n",
       "      <td>817522</td>\n",
       "      <td>1261385</td>\n",
       "      <td>617639</td>\n",
       "    </tr>\n",
       "    <tr>\n",
       "      <th>97613</th>\n",
       "      <td>Private services-providing industries 3/</td>\n",
       "      <td>369984</td>\n",
       "      <td>437715</td>\n",
       "      <td>616730</td>\n",
       "      <td>710947</td>\n",
       "    </tr>\n",
       "  </tbody>\n",
       "</table>\n",
       "<p>204 rows × 5 columns</p>\n",
       "</div>"
      ],
      "text/plain": [
       "                                           Description     2001    2004  \\\n",
       "68                                  All industry total   748918  946964   \n",
       "69                                  Private industries   652410  808170   \n",
       "70          Agriculture, forestry, fishing and hunting    14756   39394   \n",
       "71       Mining, quarrying, and oil and gas extraction     1457    2464   \n",
       "72                                           Utilities    19515   81339   \n",
       "...                                                ...      ...     ...   \n",
       "97609                                            Trade    62825   69162   \n",
       "97610                     Transportation and utilities    17624   22520   \n",
       "97611                    Manufacturing and information   921317  654996   \n",
       "97612            Private goods-producing industries 2/  1019309  817522   \n",
       "97613         Private services-providing industries 3/   369984  437715   \n",
       "\n",
       "          2013     2016  \n",
       "68     1457702  1716235  \n",
       "69     1239612  1467403  \n",
       "70       28355    22791  \n",
       "71       14681    17077  \n",
       "72      376088   456310  \n",
       "...        ...      ...  \n",
       "97609    92745    97884  \n",
       "97610      (D)      (D)  \n",
       "97611  1095804   490533  \n",
       "97612  1261385   617639  \n",
       "97613   616730   710947  \n",
       "\n",
       "[204 rows x 5 columns]"
      ]
     },
     "execution_count": 91,
     "metadata": {},
     "output_type": "execute_result"
    }
   ],
   "source": [
    "gdp_qa = pd.read_csv('GDP/CAGDP2__ALL_AREAS_2001_2019.csv', skipfooter = 4)\n",
    "gdp_qa[(gdp_qa.GeoFIPS.str.contains(\"1001\"))][[\"Description\",\"2001\",\"2004\",\"2013\",\"2016\"]]"
   ]
  },
  {
   "cell_type": "code",
   "execution_count": 80,
   "id": "2e20c340",
   "metadata": {
    "ExecuteTime": {
     "end_time": "2021-08-11T06:26:17.845634Z",
     "start_time": "2021-08-11T06:26:16.917707Z"
    }
   },
   "outputs": [],
   "source": [
    "zhvi_zip= pd.read_csv('ZHVI/Zip_zhvi_uc_sfrcondo_tier_0.33_0.67_sm_sa_month.csv')"
   ]
  },
  {
   "cell_type": "code",
   "execution_count": 81,
   "id": "584ed60d",
   "metadata": {
    "ExecuteTime": {
     "end_time": "2021-08-11T06:26:17.852278Z",
     "start_time": "2021-08-11T06:26:17.847846Z"
    }
   },
   "outputs": [],
   "source": [
    "zipcodes_in_01001 = zip_mapping[zip_mapping.fips == 1001].zipcode.values"
   ]
  },
  {
   "cell_type": "code",
   "execution_count": 82,
   "id": "1d14131f",
   "metadata": {
    "ExecuteTime": {
     "end_time": "2021-08-11T06:26:17.861027Z",
     "start_time": "2021-08-11T06:26:17.853794Z"
    }
   },
   "outputs": [],
   "source": [
    "zhvi_zip = zhvi_zip[zhvi_zip.RegionName.isin(zipcodes_in_01001)]"
   ]
  },
  {
   "cell_type": "code",
   "execution_count": 83,
   "id": "1ea2efeb",
   "metadata": {
    "ExecuteTime": {
     "end_time": "2021-08-11T06:26:18.153079Z",
     "start_time": "2021-08-11T06:26:18.145135Z"
    }
   },
   "outputs": [],
   "source": [
    "zhvi_zip = zhvi_zip.merge(pop_weights, how = 'left', left_on = 'RegionName', right_on = 'Zip Code ZCTA')"
   ]
  },
  {
   "cell_type": "code",
   "execution_count": 89,
   "id": "b60e20e6",
   "metadata": {
    "ExecuteTime": {
     "end_time": "2021-08-11T06:28:43.246911Z",
     "start_time": "2021-08-11T06:28:43.241582Z"
    }
   },
   "outputs": [
    {
     "data": {
      "text/plain": [
       "1.0825746902163775"
      ]
     },
     "execution_count": 89,
     "metadata": {},
     "output_type": "execute_result"
    }
   ],
   "source": [
    "zhvi_zip['weighed_zhvi_2019'] = zhvi_zip['2019-01-31']*zhvi_zip['Census Population 2010']\n",
    "zhvi_zip['weighed_zhvi_2016'] = zhvi_zip['2016-01-31']*zhvi_zip['Census Population 2010']\n",
    "zhvi_zip['weighed_zhvi_2019'].sum() / zhvi_zip['weighed_zhvi_2016'].sum()\n",
    "\n",
    "#1.082575"
   ]
  },
  {
   "cell_type": "code",
   "execution_count": 90,
   "id": "4de7cc42",
   "metadata": {
    "ExecuteTime": {
     "end_time": "2021-08-11T06:29:36.334725Z",
     "start_time": "2021-08-11T06:29:36.328768Z"
    }
   },
   "outputs": [
    {
     "data": {
      "text/plain": [
       "1.209146"
      ]
     },
     "execution_count": 90,
     "metadata": {},
     "output_type": "execute_result"
    }
   ],
   "source": [
    "zhvi_zip['weighed_zhvi_2007'] = zhvi_zip['2007-01-31']*zhvi_zip['Census Population 2010']\n",
    "zhvi_zip['weighed_zhvi_2004'] = zhvi_zip['2004-01-31']*zhvi_zip['Census Population 2010']\n",
    "zhvi_zip['weighed_zhvi_2007'].sum() / zhvi_zip['weighed_zhvi_2004'].sum()\n",
    "\n",
    "1.209146"
   ]
  },
  {
   "cell_type": "code",
   "execution_count": null,
   "id": "1b2dbb0c",
   "metadata": {},
   "outputs": [],
   "source": []
  }
 ],
 "metadata": {
  "kernelspec": {
   "display_name": "Python 3",
   "language": "python",
   "name": "python3"
  },
  "language_info": {
   "codemirror_mode": {
    "name": "ipython",
    "version": 3
   },
   "file_extension": ".py",
   "mimetype": "text/x-python",
   "name": "python",
   "nbconvert_exporter": "python",
   "pygments_lexer": "ipython3",
   "version": "3.6.9"
  }
 },
 "nbformat": 4,
 "nbformat_minor": 5
}
